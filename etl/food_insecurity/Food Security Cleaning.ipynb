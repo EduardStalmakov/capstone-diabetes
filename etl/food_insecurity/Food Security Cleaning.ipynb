{
 "cells": [
  {
   "cell_type": "code",
   "execution_count": 7,
   "metadata": {},
   "outputs": [],
   "source": [
    "import pandas as pd\n",
    "\n",
    "food = pd.read_csv(r'Food security by state_2020.csv')"
   ]
  },
  {
   "cell_type": "code",
   "execution_count": 8,
   "metadata": {},
   "outputs": [
    {
     "name": "stdout",
     "output_type": "stream",
     "text": [
      "<class 'pandas.core.frame.DataFrame'>\n",
      "RangeIndex: 312 entries, 0 to 311\n",
      "Data columns (total 8 columns):\n",
      " #   Column                                   Non-Null Count  Dtype  \n",
      "---  ------                                   --------------  -----  \n",
      " 0   Year                                     312 non-null    object \n",
      " 1   State                                    312 non-null    object \n",
      " 2    Number of households (average)          312 non-null    object \n",
      " 3    Number of households interviewed        312 non-null    object \n",
      " 4   Food insecurity prevalence               312 non-null    float64\n",
      " 5   Food insecurity-Margin of error          312 non-null    float64\n",
      " 6   Very low food security prevalence        312 non-null    float64\n",
      " 7   Very low food security-Margin of error   312 non-null    float64\n",
      "dtypes: float64(4), object(4)\n",
      "memory usage: 19.6+ KB\n"
     ]
    }
   ],
   "source": [
    "food.info()"
   ]
  },
  {
   "cell_type": "code",
   "execution_count": 9,
   "metadata": {},
   "outputs": [],
   "source": [
    "food['Year'] = food['Year'].replace({'2001-2003': 2003})\n",
    "food['Year'] = food['Year'].replace({'2004-2006': 2006})\n",
    "food['Year'] = food['Year'].replace({'2007-2009': 2009})\n",
    "food['Year'] = food['Year'].replace({'2010-2012': 2012})\n",
    "food['Year'] = food['Year'].replace({'2013-2015': 2015})\n",
    "food['Year'] = food['Year'].replace({'2016-2018': 2018})"
   ]
  },
  {
   "cell_type": "code",
   "execution_count": 10,
   "metadata": {},
   "outputs": [
    {
     "name": "stdout",
     "output_type": "stream",
     "text": [
      "<class 'pandas.core.frame.DataFrame'>\n",
      "RangeIndex: 312 entries, 0 to 311\n",
      "Data columns (total 4 columns):\n",
      " #   Column                             Non-Null Count  Dtype  \n",
      "---  ------                             --------------  -----  \n",
      " 0   Year                               312 non-null    int64  \n",
      " 1   State                              312 non-null    object \n",
      " 2   Food insecurity prevalence         312 non-null    float64\n",
      " 3   Very low food security prevalence  312 non-null    float64\n",
      "dtypes: float64(2), int64(1), object(1)\n",
      "memory usage: 9.9+ KB\n"
     ]
    }
   ],
   "source": [
    "food = food.drop(food.columns[[2,3,5,7]],axis=1)\n",
    "food.info()"
   ]
  },
  {
   "cell_type": "code",
   "execution_count": 11,
   "metadata": {},
   "outputs": [
    {
     "name": "stdout",
     "output_type": "stream",
     "text": [
      "<class 'pandas.core.frame.DataFrame'>\n",
      "RangeIndex: 312 entries, 0 to 311\n",
      "Data columns (total 4 columns):\n",
      " #   Column                             Non-Null Count  Dtype  \n",
      "---  ------                             --------------  -----  \n",
      " 0   Year                               312 non-null    int64  \n",
      " 1   State                              312 non-null    object \n",
      " 2   Food insecurity prevalence         312 non-null    float64\n",
      " 3   Very low food security prevalence  312 non-null    float64\n",
      "dtypes: float64(2), int64(1), object(1)\n",
      "memory usage: 9.9+ KB\n"
     ]
    }
   ],
   "source": [
    "food[['Year']] = food[['Year']].apply(pd.to_numeric)\n",
    "food.info()"
   ]
  },
  {
   "cell_type": "code",
   "execution_count": 12,
   "metadata": {},
   "outputs": [],
   "source": [
    "food.to_csv('Food Insecurity.csv')"
   ]
  },
  {
   "cell_type": "code",
   "execution_count": 17,
   "metadata": {},
   "outputs": [],
   "source": [
    "food2 = pd.read_csv(r'Food Insecurity.csv')"
   ]
  },
  {
   "cell_type": "code",
   "execution_count": 18,
   "metadata": {},
   "outputs": [
    {
     "name": "stdout",
     "output_type": "stream",
     "text": [
      "<class 'pandas.core.frame.DataFrame'>\n",
      "RangeIndex: 312 entries, 0 to 311\n",
      "Data columns (total 5 columns):\n",
      " #   Column                             Non-Null Count  Dtype  \n",
      "---  ------                             --------------  -----  \n",
      " 0   Unnamed: 0                         312 non-null    int64  \n",
      " 1   Year                               312 non-null    int64  \n",
      " 2   State                              312 non-null    object \n",
      " 3   Food insecurity prevalence         312 non-null    float64\n",
      " 4   Very low food security prevalence  312 non-null    float64\n",
      "dtypes: float64(2), int64(2), object(1)\n",
      "memory usage: 12.3+ KB\n"
     ]
    }
   ],
   "source": [
    "food2.info()"
   ]
  }
 ],
 "metadata": {
  "kernelspec": {
   "display_name": "Python 3.9.12",
   "language": "python",
   "name": "python3"
  },
  "language_info": {
   "codemirror_mode": {
    "name": "ipython",
    "version": 3
   },
   "file_extension": ".py",
   "mimetype": "text/x-python",
   "name": "python",
   "nbconvert_exporter": "python",
   "pygments_lexer": "ipython3",
   "version": "3.9.12"
  },
  "orig_nbformat": 4,
  "vscode": {
   "interpreter": {
    "hash": "6f5583cf1d9466b5c27e75c89cc6b383bed5736d6b16c51c8074d8690011a952"
   }
  }
 },
 "nbformat": 4,
 "nbformat_minor": 2
}

{
 "cells": [
  {
   "cell_type": "code",
   "execution_count": 2,
   "metadata": {},
   "outputs": [],
   "source": [
    "# imports\n",
    "# Data processing\n",
    "import pandas as pd\n",
    "import numpy as np\n",
    "\n",
    "# Data visualization\n",
    "import matplotlib.pyplot as plt\n",
    "import seaborn as sns\n",
    "\n",
    "# Model and performance\n",
    "from sklearn.model_selection import train_test_split, cross_val_score, RepeatedStratifiedKFold, GridSearchCV\n",
    "from sklearn.ensemble import RandomForestClassifier\n",
    "from sklearn.metrics import accuracy_score, confusion_matrix, classification_report, roc_auc_score, roc_curve, precision_score\n",
    "from sklearn.tree import DecisionTreeClassifier\n",
    "from sklearn.linear_model import LogisticRegression\n",
    "from sklearn.svm import LinearSVC, SVC\n",
    "from sklearn.feature_selection import SelectKBest, f_classif, mutual_info_classif, RFE, RFECV\n",
    "from sklearn.calibration import CalibratedClassifierCV"
   ]
  },
  {
   "cell_type": "code",
   "execution_count": 7,
   "metadata": {},
   "outputs": [
    {
     "name": "stdout",
     "output_type": "stream",
     "text": [
      "Train (136789, 7) (136789,)\n",
      "Test (67375, 7) (67375,)\n"
     ]
    }
   ],
   "source": [
    "# Load data\n",
    "data = pd.read_csv('data_standardized2.csv')\n",
    "data = data.drop([\"Unnamed: 0\"],axis=1)\n",
    "\n",
    "# only keep best predictive features for linear svf; helps with time and overfitting\n",
    "df = data[['age','bmi','weight','sbp','dbp','alt','chol','diabetes']]\n",
    "\n",
    "# retrieve array\n",
    "dataset = df.values\n",
    "\n",
    "# split into input and output\n",
    "X = dataset[:, :-1]\n",
    "y = dataset[:,-1]\n",
    "\n",
    "# dictionaries\n",
    "models = dict()\n",
    "hyperparameters = dict()\n",
    "\n",
    "# split into test and train sets stratify on diabetes\n",
    "X_train, X_test, y_train, y_test = train_test_split(X, y, test_size=0.33, stratify=data['diabetes'],random_state=1)\n",
    "\n",
    "# summarize\n",
    "print('Train', X_train.shape, y_train.shape)\n",
    "print('Test', X_test.shape, y_test.shape)"
   ]
  },
  {
   "cell_type": "code",
   "execution_count": 5,
   "metadata": {},
   "outputs": [
    {
     "name": "stderr",
     "output_type": "stream",
     "text": [
      "c:\\Users\\Samantha Wainright\\anaconda3\\lib\\site-packages\\sklearn\\svm\\_base.py:1225: ConvergenceWarning: Liblinear failed to converge, increase the number of iterations.\n",
      "  warnings.warn(\n"
     ]
    }
   ],
   "source": [
    "# linear SVC with selected features only\n",
    "# Train model linear SVC model \n",
    "lsvc_sf = LinearSVC(class_weight='balanced',max_iter=10000).fit(X_train, y_train)\n",
    "\n",
    "# run 5m 40.5s"
   ]
  },
  {
   "cell_type": "code",
   "execution_count": 11,
   "metadata": {},
   "outputs": [
    {
     "name": "stdout",
     "output_type": "stream",
     "text": [
      "Mean ROC AUC: 0.839\n"
     ]
    }
   ],
   "source": [
    "# define evaluation procedure\n",
    "cv = RepeatedStratifiedKFold(n_splits=10, n_repeats=3, random_state=1)\n",
    "# evaluate model\n",
    "scores = cross_val_score(lsvc_sf, X, y, scoring='roc_auc', cv=cv, n_jobs=-1)\n",
    "# summarize performance\n",
    "print('Mean ROC AUC: %.3f' % np.mean(scores))\n",
    "\n",
    "# run 95m 58.1s"
   ]
  },
  {
   "cell_type": "code",
   "execution_count": 8,
   "metadata": {},
   "outputs": [
    {
     "name": "stdout",
     "output_type": "stream",
     "text": [
      "Fitting 2 folds for each of 4 candidates, totalling 8 fits\n",
      "[CV 1/2] END .C=1, fit_intercept=True, penalty=l1;, score=nan total time=   0.2s\n",
      "[CV 2/2] END .C=1, fit_intercept=True, penalty=l1;, score=nan total time=   0.1s\n"
     ]
    },
    {
     "name": "stderr",
     "output_type": "stream",
     "text": [
      "c:\\Users\\Samantha Wainright\\anaconda3\\lib\\site-packages\\sklearn\\svm\\_base.py:1225: ConvergenceWarning: Liblinear failed to converge, increase the number of iterations.\n",
      "  warnings.warn(\n"
     ]
    },
    {
     "name": "stdout",
     "output_type": "stream",
     "text": [
      "[CV 1/2] END C=1, fit_intercept=True, penalty=l2;, score=0.736 total time= 2.6min\n"
     ]
    },
    {
     "name": "stderr",
     "output_type": "stream",
     "text": [
      "c:\\Users\\Samantha Wainright\\anaconda3\\lib\\site-packages\\sklearn\\svm\\_base.py:1225: ConvergenceWarning: Liblinear failed to converge, increase the number of iterations.\n",
      "  warnings.warn(\n"
     ]
    },
    {
     "name": "stdout",
     "output_type": "stream",
     "text": [
      "[CV 2/2] END C=1, fit_intercept=True, penalty=l2;, score=0.741 total time= 2.2min\n",
      "[CV 1/2] END C=1, fit_intercept=False, penalty=l1;, score=nan total time=   0.1s\n",
      "[CV 2/2] END C=1, fit_intercept=False, penalty=l1;, score=nan total time=   0.1s\n"
     ]
    },
    {
     "name": "stderr",
     "output_type": "stream",
     "text": [
      "c:\\Users\\Samantha Wainright\\anaconda3\\lib\\site-packages\\sklearn\\svm\\_base.py:1225: ConvergenceWarning: Liblinear failed to converge, increase the number of iterations.\n",
      "  warnings.warn(\n"
     ]
    },
    {
     "name": "stdout",
     "output_type": "stream",
     "text": [
      "[CV 1/2] END C=1, fit_intercept=False, penalty=l2;, score=0.551 total time= 1.8min\n"
     ]
    },
    {
     "name": "stderr",
     "output_type": "stream",
     "text": [
      "c:\\Users\\Samantha Wainright\\anaconda3\\lib\\site-packages\\sklearn\\svm\\_base.py:1225: ConvergenceWarning: Liblinear failed to converge, increase the number of iterations.\n",
      "  warnings.warn(\n",
      "c:\\Users\\Samantha Wainright\\anaconda3\\lib\\site-packages\\sklearn\\model_selection\\_validation.py:378: FitFailedWarning: \n",
      "4 fits failed out of a total of 8.\n",
      "The score on these train-test partitions for these parameters will be set to nan.\n",
      "If these failures are not expected, you can try to debug them by setting error_score='raise'.\n",
      "\n",
      "Below are more details about the failures:\n",
      "--------------------------------------------------------------------------------\n",
      "4 fits failed with the following error:\n",
      "Traceback (most recent call last):\n",
      "  File \"c:\\Users\\Samantha Wainright\\anaconda3\\lib\\site-packages\\sklearn\\model_selection\\_validation.py\", line 686, in _fit_and_score\n",
      "    estimator.fit(X_train, y_train, **fit_params)\n",
      "  File \"c:\\Users\\Samantha Wainright\\anaconda3\\lib\\site-packages\\sklearn\\svm\\_classes.py\", line 257, in fit\n",
      "    self.coef_, self.intercept_, n_iter_ = _fit_liblinear(\n",
      "  File \"c:\\Users\\Samantha Wainright\\anaconda3\\lib\\site-packages\\sklearn\\svm\\_base.py\", line 1204, in _fit_liblinear\n",
      "    solver_type = _get_liblinear_solver_type(multi_class, penalty, loss, dual)\n",
      "  File \"c:\\Users\\Samantha Wainright\\anaconda3\\lib\\site-packages\\sklearn\\svm\\_base.py\", line 1043, in _get_liblinear_solver_type\n",
      "    raise ValueError(\n",
      "ValueError: Unsupported set of arguments: The combination of penalty='l1' and loss='squared_hinge' are not supported when dual=True, Parameters: penalty='l1', loss='squared_hinge', dual=True\n",
      "\n",
      "  warnings.warn(some_fits_failed_message, FitFailedWarning)\n",
      "c:\\Users\\Samantha Wainright\\anaconda3\\lib\\site-packages\\sklearn\\model_selection\\_search.py:953: UserWarning: One or more of the test scores are non-finite: [       nan 0.7384439         nan 0.55144054]\n",
      "  warnings.warn(\n"
     ]
    },
    {
     "name": "stdout",
     "output_type": "stream",
     "text": [
      "[CV 2/2] END C=1, fit_intercept=False, penalty=l2;, score=0.552 total time= 1.4min\n"
     ]
    },
    {
     "name": "stderr",
     "output_type": "stream",
     "text": [
      "c:\\Users\\Samantha Wainright\\anaconda3\\lib\\site-packages\\sklearn\\svm\\_base.py:1225: ConvergenceWarning: Liblinear failed to converge, increase the number of iterations.\n",
      "  warnings.warn(\n"
     ]
    }
   ],
   "source": [
    "# Grid Search for Tuned Hyper Parameters\n",
    "\n",
    "# Define parameters we want to tune\n",
    "penalty = ['l1','l2']\n",
    "fit_intercept = [True, False]\n",
    "C = range(1, 10, 100)\n",
    "\n",
    "# convert to dict\n",
    "hyperparameters['penalty'] = penalty\n",
    "hyperparameters['fit_intercept'] = fit_intercept\n",
    "hyperparameters['C'] = C\n",
    "\n",
    "#create new linearSVC object\n",
    "lsvc_opt = LinearSVC(class_weight = 'balanced', max_iter=10000,random_state=1)\n",
    "\n",
    "\n",
    "# Use gridsearch to find ideal hyperparameters\n",
    "grid_search_lscv = GridSearchCV(lsvc_opt, \n",
    "                                hyperparameters, \n",
    "                                cv=2, # ditched evaluation procedure because of time, just using cv=2\n",
    "                                verbose=5) \n",
    "\n",
    "# Fit the model\n",
    "grid_search_lscv.fit(X_train, y_train)\n",
    "\n",
    "# Add models to dictionary\n",
    "models['Linear SVC (Grid Search Tuned)'] = grid_search_lscv\n",
    "\n",
    "# run 15m 15.9s"
   ]
  },
  {
   "cell_type": "code",
   "execution_count": 9,
   "metadata": {},
   "outputs": [
    {
     "name": "stdout",
     "output_type": "stream",
     "text": [
      "{'C': 1, 'fit_intercept': True, 'penalty': 'l2'}\n",
      "LinearSVC(C=1, class_weight='balanced', max_iter=10000, random_state=1)\n",
      "              precision    recall  f1-score   support\n",
      "\n",
      "          no       0.99      0.73      0.84     66103\n",
      "         yes       0.06      0.81      0.10      1272\n",
      "\n",
      "    accuracy                           0.74     67375\n",
      "   macro avg       0.52      0.77      0.47     67375\n",
      "weighted avg       0.98      0.74      0.83     67375\n",
      "\n"
     ]
    }
   ],
   "source": [
    "# Get best parameters\n",
    "print(models['Linear SVC (Grid Search Tuned)'].best_params_)\n",
    "print(models['Linear SVC (Grid Search Tuned)'].best_estimator_)\n",
    "\n",
    "grid_predictions = (models['Linear SVC (Grid Search Tuned)'].predict(X_test))\n",
    "# print classification report\n",
    "print(classification_report(y_test, grid_predictions))"
   ]
  },
  {
   "cell_type": "code",
   "execution_count": 10,
   "metadata": {},
   "outputs": [
    {
     "data": {
      "image/png": "[encoded data removed]",
      "text/plain": [
       "<Figure size 360x360 with 2 Axes>"
      ]
     },
     "metadata": {
      "needs_background": "light"
     },
     "output_type": "display_data"
    }
   ],
   "source": [
    "# Confusion matrix for LinearSVC model\n",
    "lsvc_cm = confusion_matrix(y_test, grid_predictions)\n",
    "f, ax = plt.subplots(figsize =(5,5))\n",
    "sns.heatmap(lsvc_cm, \n",
    "            annot = True,\n",
    "            linewidths=0.5,\n",
    "            fmt = \".0f\",\n",
    "            ax=ax,\n",
    "            vmin=200,\n",
    "            vmax=50000,\n",
    "            cmap=\"BuGn\"\n",
    ")\n",
    "ax.set_xlabel(\"Predicted diagnosis\")\n",
    "ax.set_ylabel(\"Actual diagnosis\")\n",
    "ax.set_title(f'Confusion Matrix for Linear SVC (Grid Search Tuned)')\n",
    "plt.show()"
   ]
  },
  {
   "cell_type": "code",
   "execution_count": 34,
   "metadata": {},
   "outputs": [
    {
     "name": "stdout",
     "output_type": "stream",
     "text": [
      "Fitting 2 folds for each of 8 candidates, totalling 16 fits\n",
      "[CV 1/2] END C=1, degree=1, gamma=scale, kernel=linear;, score=0.720 total time=15.0min\n",
      "[CV 2/2] END C=1, degree=1, gamma=scale, kernel=linear;, score=0.724 total time=18.6min\n",
      "[CV 1/2] END C=1, degree=1, gamma=scale, kernel=poly;, score=0.720 total time=17.9min\n",
      "[CV 2/2] END C=1, degree=1, gamma=scale, kernel=poly;, score=0.724 total time=15.7min\n",
      "[CV 1/2] END C=1, degree=1, gamma=scale, kernel=rbf;, score=0.735 total time=22.8min\n",
      "[CV 2/2] END C=1, degree=1, gamma=scale, kernel=rbf;, score=0.747 total time=21.9min\n",
      "[CV 1/2] END C=1, degree=1, gamma=scale, kernel=sigmoid;, score=0.655 total time=12.9min\n",
      "[CV 2/2] END C=1, degree=1, gamma=scale, kernel=sigmoid;, score=0.636 total time=11.8min\n",
      "[CV 1/2] END C=1, degree=1, gamma=auto, kernel=linear;, score=0.720 total time=16.0min\n",
      "[CV 2/2] END C=1, degree=1, gamma=auto, kernel=linear;, score=0.724 total time=20.1min\n",
      "[CV 1/2] END C=1, degree=1, gamma=auto, kernel=poly;, score=0.720 total time=19.2min\n",
      "[CV 2/2] END C=1, degree=1, gamma=auto, kernel=poly;, score=0.724 total time=19.5min\n",
      "[CV 1/2] END C=1, degree=1, gamma=auto, kernel=rbf;, score=0.734 total time=29.1min\n",
      "[CV 2/2] END C=1, degree=1, gamma=auto, kernel=rbf;, score=0.747 total time=34.4min\n",
      "[CV 1/2] END C=1, degree=1, gamma=auto, kernel=sigmoid;, score=0.655 total time=15.1min\n",
      "[CV 2/2] END C=1, degree=1, gamma=auto, kernel=sigmoid;, score=0.636 total time=13.3min\n"
     ]
    }
   ],
   "source": [
    "# Grid Search for Tuned Hyper Parameters on SVC with linear kernal\n",
    "\n",
    "# Define parameters we want to tune\n",
    "C = range(1, 10, 100)\n",
    "kernel = ['linear','poly','rbf','sigmoid']\n",
    "degree = range(1, 10, 100)\n",
    "gamma = ['scale','auto']\n",
    "\n",
    "# convert to dict\n",
    "hyperparameters = dict()\n",
    "hyperparameters['C'] = C\n",
    "hyperparameters['kernel'] = kernel\n",
    "hyperparameters['degree'] = degree\n",
    "hyperparameters['gamma'] = gamma\n",
    "\n",
    "# create new SVC model\n",
    "svc_opt = SVC(class_weight='balanced',  # adjusts weight according to values of y \n",
    "            probability=True            # this is the part that slows it down but allows for predict_proba\n",
    "            )\n",
    "\n",
    "\n",
    "# Use gridsearch to find ideal hyperparameters\n",
    "grid_search_scv = GridSearchCV(svc_opt, hyperparameters, cv=2, verbose=5)\n",
    "\n",
    "# Fit the model\n",
    "grid_search_scv.fit(X_train, y_train)\n",
    "\n",
    "# Add models to dictionary\n",
    "models['SVC with Linear Kernal (Grid Search Tuned'] = grid_search_scv\n",
    "\n",
    "# run 15m 15.9s"
   ]
  },
  {
   "cell_type": "code",
   "execution_count": 49,
   "metadata": {},
   "outputs": [
    {
     "name": "stdout",
     "output_type": "stream",
     "text": [
      "{'C': 1, 'degree': 1, 'gamma': 'scale', 'kernel': 'rbf'}\n",
      "SVC(C=1, class_weight='balanced', degree=1, probability=True)\n",
      "              precision    recall  f1-score   support\n",
      "\n",
      "          no       0.99      0.73      0.84     66103\n",
      "         yes       0.05      0.80      0.10      1272\n",
      "\n",
      "    accuracy                           0.73     67375\n",
      "   macro avg       0.52      0.76      0.47     67375\n",
      "weighted avg       0.98      0.73      0.83     67375\n",
      "\n"
     ]
    },
    {
     "data": {
      "image/png": "[encoded data removed]",
      "text/plain": [
       "<Figure size 360x360 with 2 Axes>"
      ]
     },
     "metadata": {
      "needs_background": "light"
     },
     "output_type": "display_data"
    }
   ],
   "source": [
    "# Get best parameters\n",
    "print(models['SVC with Linear Kernal (Grid Search Tuned'].best_params_)\n",
    "print(models['SVC with Linear Kernal (Grid Search Tuned'].best_estimator_)\n",
    "\n",
    "grid_predictions = (models['SVC with Linear Kernal (Grid Search Tuned'].predict(X_test))\n",
    "# print classification report\n",
    "print(classification_report(y_test, grid_predictions))\n",
    "\n",
    "# Confusion matrix for SVC model\n",
    "svc_cm = confusion_matrix(y_test, grid_predictions)\n",
    "f, ax = plt.subplots(figsize =(5,5))\n",
    "sns.heatmap(svc_cm, \n",
    "            annot = True,\n",
    "            linewidths=0.5, fmt = \".0f\",\n",
    "            ax=ax,\n",
    "            vmin=200,\n",
    "            vmax=50000, cmap=\"BuGn\")\n",
    "ax.set_xlabel(\"Predicted diagnosis\")\n",
    "ax.set_ylabel(\"Actual diagnosis\")\n",
    "ax.set_title(f'Confusion Matrix for SVC (Grid Search Tuned)')\n",
    "plt.show()"
   ]
  },
  {
   "cell_type": "code",
   "execution_count": null,
   "metadata": {},
   "outputs": [],
   "source": [
    "# tuned models are getting relatively the same values, largest benefit is the reduced run time\n",
    "# another for logistic regression as a comparison?"
   ]
  }
 ],
 "metadata": {
  "kernelspec": {
   "display_name": "Python 3.9.12 ('base')",
   "language": "python",
   "name": "python3"
  },
  "language_info": {
   "codemirror_mode": {
    "name": "ipython",
    "version": 3
   },
   "file_extension": ".py",
   "mimetype": "text/x-python",
   "name": "python",
   "nbconvert_exporter": "python",
   "pygments_lexer": "ipython3",
   "version": "3.9.12"
  },
  "orig_nbformat": 4,
  "vscode": {
   "interpreter": {
    "hash": "69102703ec8bab9daed030337c07368ff698e2c803d8aacdd0e009515aea213c"
   }
  }
 },
 "nbformat": 4,
 "nbformat_minor": 2
}

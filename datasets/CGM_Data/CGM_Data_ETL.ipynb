{
 "cells": [
  {
   "cell_type": "code",
   "execution_count": 1,
   "metadata": {},
   "outputs": [],
   "source": [
    "import pandas as pd"
   ]
  },
  {
   "cell_type": "code",
   "execution_count": 2,
   "metadata": {},
   "outputs": [],
   "source": [
    "cgmDF = pd.read_csv('tblADataRTCGM_Blind_Baseline.csv')"
   ]
  },
  {
   "cell_type": "code",
   "execution_count": 3,
   "metadata": {},
   "outputs": [
    {
     "name": "stdout",
     "output_type": "stream",
     "text": [
      "<class 'pandas.core.frame.DataFrame'>\n",
      "RangeIndex: 772061 entries, 0 to 772060\n",
      "Data columns (total 4 columns):\n",
      " #   Column      Non-Null Count   Dtype \n",
      "---  ------      --------------   ----- \n",
      " 0   RecID       772061 non-null  int64 \n",
      " 1   PtID        772061 non-null  int64 \n",
      " 2   DeviceDtTm  772061 non-null  object\n",
      " 3   Glucose     772061 non-null  int64 \n",
      "dtypes: int64(3), object(1)\n",
      "memory usage: 23.6+ MB\n"
     ]
    }
   ],
   "source": [
    "cgmDF.info()"
   ]
  },
  {
   "cell_type": "code",
   "execution_count": 4,
   "metadata": {},
   "outputs": [
    {
     "data": {
      "text/html": [
       "<div>\n",
       "<style scoped>\n",
       "    .dataframe tbody tr th:only-of-type {\n",
       "        vertical-align: middle;\n",
       "    }\n",
       "\n",
       "    .dataframe tbody tr th {\n",
       "        vertical-align: top;\n",
       "    }\n",
       "\n",
       "    .dataframe thead th {\n",
       "        text-align: right;\n",
       "    }\n",
       "</style>\n",
       "<table border=\"1\" class=\"dataframe\">\n",
       "  <thead>\n",
       "    <tr style=\"text-align: right;\">\n",
       "      <th></th>\n",
       "      <th>RecID</th>\n",
       "      <th>PtID</th>\n",
       "      <th>DeviceDtTm</th>\n",
       "      <th>Glucose</th>\n",
       "    </tr>\n",
       "  </thead>\n",
       "  <tbody>\n",
       "    <tr>\n",
       "      <th>0</th>\n",
       "      <td>196879</td>\n",
       "      <td>220</td>\n",
       "      <td>2000-04-28 18:20:14.010000000</td>\n",
       "      <td>129</td>\n",
       "    </tr>\n",
       "    <tr>\n",
       "      <th>1</th>\n",
       "      <td>196880</td>\n",
       "      <td>220</td>\n",
       "      <td>2000-04-28 18:25:14.010000000</td>\n",
       "      <td>132</td>\n",
       "    </tr>\n",
       "    <tr>\n",
       "      <th>2</th>\n",
       "      <td>196881</td>\n",
       "      <td>220</td>\n",
       "      <td>2000-04-28 18:30:14.010000000</td>\n",
       "      <td>126</td>\n",
       "    </tr>\n",
       "    <tr>\n",
       "      <th>3</th>\n",
       "      <td>196882</td>\n",
       "      <td>220</td>\n",
       "      <td>2000-04-28 18:35:14.010000000</td>\n",
       "      <td>120</td>\n",
       "    </tr>\n",
       "    <tr>\n",
       "      <th>4</th>\n",
       "      <td>196883</td>\n",
       "      <td>220</td>\n",
       "      <td>2000-04-28 18:40:14.010000000</td>\n",
       "      <td>118</td>\n",
       "    </tr>\n",
       "    <tr>\n",
       "      <th>...</th>\n",
       "      <td>...</td>\n",
       "      <td>...</td>\n",
       "      <td>...</td>\n",
       "      <td>...</td>\n",
       "    </tr>\n",
       "    <tr>\n",
       "      <th>772056</th>\n",
       "      <td>11107424</td>\n",
       "      <td>115</td>\n",
       "      <td>2000-05-25 00:57:48</td>\n",
       "      <td>66</td>\n",
       "    </tr>\n",
       "    <tr>\n",
       "      <th>772057</th>\n",
       "      <td>11107425</td>\n",
       "      <td>115</td>\n",
       "      <td>2000-05-25 01:07:50</td>\n",
       "      <td>81</td>\n",
       "    </tr>\n",
       "    <tr>\n",
       "      <th>772058</th>\n",
       "      <td>11107426</td>\n",
       "      <td>115</td>\n",
       "      <td>2000-05-25 01:17:51</td>\n",
       "      <td>98</td>\n",
       "    </tr>\n",
       "    <tr>\n",
       "      <th>772059</th>\n",
       "      <td>11107427</td>\n",
       "      <td>115</td>\n",
       "      <td>2000-05-25 02:07:55</td>\n",
       "      <td>107</td>\n",
       "    </tr>\n",
       "    <tr>\n",
       "      <th>772060</th>\n",
       "      <td>11107428</td>\n",
       "      <td>115</td>\n",
       "      <td>2000-05-25 02:17:54</td>\n",
       "      <td>121</td>\n",
       "    </tr>\n",
       "  </tbody>\n",
       "</table>\n",
       "<p>772061 rows × 4 columns</p>\n",
       "</div>"
      ],
      "text/plain": [
       "           RecID  PtID                     DeviceDtTm  Glucose\n",
       "0         196879   220  2000-04-28 18:20:14.010000000      129\n",
       "1         196880   220  2000-04-28 18:25:14.010000000      132\n",
       "2         196881   220  2000-04-28 18:30:14.010000000      126\n",
       "3         196882   220  2000-04-28 18:35:14.010000000      120\n",
       "4         196883   220  2000-04-28 18:40:14.010000000      118\n",
       "...          ...   ...                            ...      ...\n",
       "772056  11107424   115            2000-05-25 00:57:48       66\n",
       "772057  11107425   115            2000-05-25 01:07:50       81\n",
       "772058  11107426   115            2000-05-25 01:17:51       98\n",
       "772059  11107427   115            2000-05-25 02:07:55      107\n",
       "772060  11107428   115            2000-05-25 02:17:54      121\n",
       "\n",
       "[772061 rows x 4 columns]"
      ]
     },
     "execution_count": 4,
     "metadata": {},
     "output_type": "execute_result"
    }
   ],
   "source": [
    "cgmDF.drop_duplicates()"
   ]
  },
  {
   "cell_type": "code",
   "execution_count": 5,
   "metadata": {},
   "outputs": [
    {
     "data": {
      "text/html": [
       "<div>\n",
       "<style scoped>\n",
       "    .dataframe tbody tr th:only-of-type {\n",
       "        vertical-align: middle;\n",
       "    }\n",
       "\n",
       "    .dataframe tbody tr th {\n",
       "        vertical-align: top;\n",
       "    }\n",
       "\n",
       "    .dataframe thead th {\n",
       "        text-align: right;\n",
       "    }\n",
       "</style>\n",
       "<table border=\"1\" class=\"dataframe\">\n",
       "  <thead>\n",
       "    <tr style=\"text-align: right;\">\n",
       "      <th></th>\n",
       "      <th>RecID</th>\n",
       "      <th>PtID</th>\n",
       "      <th>DeviceDtTm</th>\n",
       "      <th>Glucose</th>\n",
       "    </tr>\n",
       "  </thead>\n",
       "  <tbody>\n",
       "    <tr>\n",
       "      <th>0</th>\n",
       "      <td>196879</td>\n",
       "      <td>220</td>\n",
       "      <td>2000-04-28 18:20:14.010000000</td>\n",
       "      <td>129</td>\n",
       "    </tr>\n",
       "    <tr>\n",
       "      <th>1</th>\n",
       "      <td>196880</td>\n",
       "      <td>220</td>\n",
       "      <td>2000-04-28 18:25:14.010000000</td>\n",
       "      <td>132</td>\n",
       "    </tr>\n",
       "    <tr>\n",
       "      <th>2</th>\n",
       "      <td>196881</td>\n",
       "      <td>220</td>\n",
       "      <td>2000-04-28 18:30:14.010000000</td>\n",
       "      <td>126</td>\n",
       "    </tr>\n",
       "    <tr>\n",
       "      <th>3</th>\n",
       "      <td>196882</td>\n",
       "      <td>220</td>\n",
       "      <td>2000-04-28 18:35:14.010000000</td>\n",
       "      <td>120</td>\n",
       "    </tr>\n",
       "    <tr>\n",
       "      <th>4</th>\n",
       "      <td>196883</td>\n",
       "      <td>220</td>\n",
       "      <td>2000-04-28 18:40:14.010000000</td>\n",
       "      <td>118</td>\n",
       "    </tr>\n",
       "    <tr>\n",
       "      <th>...</th>\n",
       "      <td>...</td>\n",
       "      <td>...</td>\n",
       "      <td>...</td>\n",
       "      <td>...</td>\n",
       "    </tr>\n",
       "    <tr>\n",
       "      <th>772056</th>\n",
       "      <td>11107424</td>\n",
       "      <td>115</td>\n",
       "      <td>2000-05-25 00:57:48</td>\n",
       "      <td>66</td>\n",
       "    </tr>\n",
       "    <tr>\n",
       "      <th>772057</th>\n",
       "      <td>11107425</td>\n",
       "      <td>115</td>\n",
       "      <td>2000-05-25 01:07:50</td>\n",
       "      <td>81</td>\n",
       "    </tr>\n",
       "    <tr>\n",
       "      <th>772058</th>\n",
       "      <td>11107426</td>\n",
       "      <td>115</td>\n",
       "      <td>2000-05-25 01:17:51</td>\n",
       "      <td>98</td>\n",
       "    </tr>\n",
       "    <tr>\n",
       "      <th>772059</th>\n",
       "      <td>11107427</td>\n",
       "      <td>115</td>\n",
       "      <td>2000-05-25 02:07:55</td>\n",
       "      <td>107</td>\n",
       "    </tr>\n",
       "    <tr>\n",
       "      <th>772060</th>\n",
       "      <td>11107428</td>\n",
       "      <td>115</td>\n",
       "      <td>2000-05-25 02:17:54</td>\n",
       "      <td>121</td>\n",
       "    </tr>\n",
       "  </tbody>\n",
       "</table>\n",
       "<p>772061 rows × 4 columns</p>\n",
       "</div>"
      ],
      "text/plain": [
       "           RecID  PtID                     DeviceDtTm  Glucose\n",
       "0         196879   220  2000-04-28 18:20:14.010000000      129\n",
       "1         196880   220  2000-04-28 18:25:14.010000000      132\n",
       "2         196881   220  2000-04-28 18:30:14.010000000      126\n",
       "3         196882   220  2000-04-28 18:35:14.010000000      120\n",
       "4         196883   220  2000-04-28 18:40:14.010000000      118\n",
       "...          ...   ...                            ...      ...\n",
       "772056  11107424   115            2000-05-25 00:57:48       66\n",
       "772057  11107425   115            2000-05-25 01:07:50       81\n",
       "772058  11107426   115            2000-05-25 01:17:51       98\n",
       "772059  11107427   115            2000-05-25 02:07:55      107\n",
       "772060  11107428   115            2000-05-25 02:17:54      121\n",
       "\n",
       "[772061 rows x 4 columns]"
      ]
     },
     "execution_count": 5,
     "metadata": {},
     "output_type": "execute_result"
    }
   ],
   "source": [
    "cgmDF.dropna()"
   ]
  },
  {
   "cell_type": "code",
   "execution_count": 6,
   "metadata": {},
   "outputs": [],
   "source": [
    "cgmDF['DeviceDtTm'] = cgmDF['DeviceDtTm'].astype('datetime64')"
   ]
  },
  {
   "cell_type": "code",
   "execution_count": 7,
   "metadata": {},
   "outputs": [
    {
     "name": "stdout",
     "output_type": "stream",
     "text": [
      "<class 'pandas.core.frame.DataFrame'>\n",
      "RangeIndex: 772061 entries, 0 to 772060\n",
      "Data columns (total 4 columns):\n",
      " #   Column      Non-Null Count   Dtype         \n",
      "---  ------      --------------   -----         \n",
      " 0   RecID       772061 non-null  int64         \n",
      " 1   PtID        772061 non-null  int64         \n",
      " 2   DeviceDtTm  772061 non-null  datetime64[ns]\n",
      " 3   Glucose     772061 non-null  int64         \n",
      "dtypes: datetime64[ns](1), int64(3)\n",
      "memory usage: 23.6 MB\n"
     ]
    }
   ],
   "source": [
    "cgmDF.info()"
   ]
  },
  {
   "cell_type": "code",
   "execution_count": 8,
   "metadata": {},
   "outputs": [],
   "source": [
    "cgmDF.to_csv('CGM_Data.csv')"
   ]
  },
  {
   "cell_type": "code",
   "execution_count": null,
   "metadata": {},
   "outputs": [],
   "source": []
  }
 ],
 "metadata": {
  "kernelspec": {
   "display_name": "Python 3.9.12 ('base')",
   "language": "python",
   "name": "python3"
  },
  "language_info": {
   "codemirror_mode": {
    "name": "ipython",
    "version": 3
   },
   "file_extension": ".py",
   "mimetype": "text/x-python",
   "name": "python",
   "nbconvert_exporter": "python",
   "pygments_lexer": "ipython3",
   "version": "3.9.12"
  },
  "orig_nbformat": 4,
  "vscode": {
   "interpreter": {
    "hash": "88279d2366fe020547cde40dd65aa0e3aa662a6ec1f3ca12d88834876c85e1a6"
   }
  }
 },
 "nbformat": 4,
 "nbformat_minor": 2
}

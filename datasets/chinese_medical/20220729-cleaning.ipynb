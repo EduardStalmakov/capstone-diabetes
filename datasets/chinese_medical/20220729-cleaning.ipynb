{
 "cells": [
  {
   "cell_type": "code",
   "execution_count": 30,
   "metadata": {},
   "outputs": [],
   "source": [
    "# Imports\n",
    "import pandas as pd\n",
    "import matplotlib.pyplot as plt\n",
    "from sklearn.preprocessing import StandardScaler\n",
    "\n",
    "# Load data\n",
    "data = pd.read_csv('data.csv')\n",
    "\n",
    "# Get whether should be verbose run\n",
    "verbose = False\n",
    "\n",
    "# Get data info\n",
    "if (verbose):\n",
    "    data.info()\n",
    "    print(f'People with diabetes: {data[data[\"censor of diabetes at followup(1, Yes; 0, No)\"] == 1].shape[0]}')"
   ]
  },
  {
   "cell_type": "code",
   "execution_count": 31,
   "metadata": {},
   "outputs": [],
   "source": [
    "if (verbose):\n",
    "    data.columns"
   ]
  },
  {
   "cell_type": "code",
   "execution_count": 32,
   "metadata": {},
   "outputs": [],
   "source": [
    "clean_data = data.copy()\n",
    "\n",
    "# Remove all unnecessary columns\n",
    "clean_data = clean_data.drop(columns=['id', 'site', 'year of followup', 'Diabetes diagnosed during followup（1,Yes）'])\n",
    "# NOTE: after closer inspection of documentation, the censor is the baseline used by the group to\n",
    "#    determine if someone has diabetes\n",
    "\n",
    "# Rename columns to be more accessible\n",
    "rename_dict = {\n",
    "    'Age (y)': 'age',\n",
    "    'Gender(1, male; 2, female)': 'sex',\n",
    "    'height(cm)': 'height',\n",
    "    'weight(kg)': 'weight',\n",
    "    'BMI(kg/m2)': 'bmi',\n",
    "    'SBP(mmHg)': 'sbp',\n",
    "    'DBP(mmHg)': 'dbp',\n",
    "    'FPG (mmol/L)': 'fpg',\n",
    "    'Cholesterol(mmol/L)': 'chol',\n",
    "    'Triglyceride(mmol/L)': 'tg',\n",
    "    'HDL-c(mmol/L)': 'hdlc',\n",
    "    'LDL(mmol/L)': 'ldl',\n",
    "    'ALT(U/L)': 'alt',\n",
    "    'AST(U/L)': 'ast',\n",
    "    'BUN(mmol/L)': 'bun',\n",
    "    'CCR(umol/L)': 'ccr',\n",
    "    'FPG of final visit(mmol/L)': 'fpg_final',\n",
    "    'censor of diabetes at followup(1, Yes; 0, No)': 'diabetes',\n",
    "    'smoking status(1,current smoker;2, ever smoker;3,never smoker)': 'smoker',\n",
    "    'drinking status(1,current drinker;2, ever drinker;3,never drinker)': 'drinker',\n",
    "    'family histroy of diabetes(1,Yes;0,No)': 'fam_hist'\n",
    "}\n",
    "clean_data = clean_data.rename(columns=rename_dict)\n",
    "if (verbose):\n",
    "    clean_data.info()\n",
    "    print(f'People with diabetes: {clean_data[clean_data[\"diabetes\"] == 1].shape[0]}')"
   ]
  },
  {
   "cell_type": "code",
   "execution_count": 33,
   "metadata": {},
   "outputs": [],
   "source": [
    "# Get only three standard deviations within mean\n",
    "def rmv3StdNull(dt, col, col_name, verbose=False, null_rem=True, avg='mean', std_rem=True):\n",
    "    \n",
    "    # Get mean and standard deviation\n",
    "    dt_mean = dt[col].mean()\n",
    "    dt_std = dt[col].std()\n",
    "\n",
    "    # Print distribution data about column\n",
    "    if (verbose):\n",
    "        print('BEFORE:')\n",
    "        print(f' Range of DBP: {dt[col].min()} - {dt[col].max()}')\n",
    "        print(f' Mean of DBP: {dt_mean}')\n",
    "        print(f' Standard deviation of DBP: {dt_std}')\n",
    "        print(f' Number of nulls: {(dt.loc[dt[col].isna()]).shape[0]}')\n",
    "        print(f' Min of DBP: {dt[col].min()}')\n",
    "        print(f' Max of DBP: {dt[col].max()}')\n",
    "        fig, ax = plt.subplots()\n",
    "        labels = ['No Diabetes', 'Diabetes']\n",
    "        colors = ['#E69F00', '#56B4E9', '#009E73', '#0072B2', '#D55E00', 'tomato']\n",
    "        for i in [0, 1]:\n",
    "            ax.hist(dt['dbp'][dt['diabetes'] == i], bins = 50, label=labels[i], color=colors[i])\n",
    "            ax.set_title(f'Distribution of {col_name}, Before Cleaning')\n",
    "            ax.set_xlabel(f'{col_name}')\n",
    "            ax.set_ylabel('Count')\n",
    "            ax.legend()\n",
    "        print()\n",
    "\n",
    "    if (null_rem):\n",
    "        # Since such small amount, just remove nulls\n",
    "        dt = dt.loc[dt[col].notna()]\n",
    "    else:\n",
    "        # Replace all nulls with average\n",
    "        if (avg=='mean'):\n",
    "            dt_mean = dt[col].loc[dt[col].notna()].mean()\n",
    "            dt[col].loc[dt[col].isna()] = dt_mean\n",
    "        elif (avg=='mode'):\n",
    "            dt_mode = dt[col].loc[dt[col].notna()].mode()\n",
    "            dt[col].loc[dt[col].isna()] = dt_mode\n",
    "\n",
    "    # Remove all data more than 3 standard deviations from the mean, thus not dealing with extreme outliers\n",
    "    if (std_rem):\n",
    "        dt = dt.loc[dt[col] < dt_mean + 3 * dt_std]\n",
    "        dt = dt.loc[dt[col] > dt_mean - 3 * dt_std]\n",
    "\n",
    "    # Make sure eliminated\n",
    "    dt_mean = dt[col].mean()\n",
    "    dt_std = dt[col].std()\n",
    "    if (verbose):\n",
    "        print('AFTER:')\n",
    "        print(f' Range of DBP: {dt[col].min()} - {dt[col].max()}')\n",
    "        print(f' Mean of DBP: {dt_mean}')\n",
    "        print(f' Standard deviation of DBP: {dt_std}')\n",
    "        print(f' Number of nulls: {(dt.loc[dt[col].isna()]).shape[0]}')\n",
    "        print(f' Min of DBP: {dt[col].min()}')\n",
    "        print(f' Max of DBP: {dt[col].max()}')\n",
    "        fig, ax = plt.subplots()\n",
    "        for i in [0, 1]:\n",
    "            ax.hist(dt['dbp'][dt['diabetes'] == i], bins = 50, label=labels[i], color=colors[i])\n",
    "            ax.set_title(f'Distribution of {col_name}, Before Cleaning')\n",
    "            ax.set_xlabel(f'{col_name}')\n",
    "            ax.set_ylabel('Count')\n",
    "            ax.legend()\n",
    "    \n",
    "    # Return cleaned data\n",
    "    return dt\n",
    "    "
   ]
  },
  {
   "cell_type": "code",
   "execution_count": 34,
   "metadata": {},
   "outputs": [],
   "source": [
    "# Clean sex\n",
    "clean_data['sex'] = clean_data['sex'].replace({1: 'male', 2: 'female'})\n",
    "\n",
    "# Check to see columns are all filled\n",
    "if (verbose):\n",
    "    print(f'Sexes in dataset: {clean_data[\"sex\"].unique()}')"
   ]
  },
  {
   "cell_type": "code",
   "execution_count": 35,
   "metadata": {},
   "outputs": [],
   "source": [
    "# Clean height\n",
    "if (verbose):\n",
    "    print(f'Range of heights: {clean_data[\"height\"].min()} - {clean_data[\"height\"].max()}')\n",
    "    print(f'Number of nulls: {(clean_data.loc[clean_data[\"height\"].isna()]).shape[0]}')\n",
    "\n",
    "# Since such small amount, just remove nulls\n",
    "clean_data = clean_data.loc[clean_data[\"height\"].notna()]\n",
    "\n",
    "# Make sure eliminated\n",
    "if (verbose):\n",
    "    print(f'Number of nulls, after cleaning: {(clean_data.loc[clean_data[\"height\"].isna()]).shape[0]}')"
   ]
  },
  {
   "cell_type": "code",
   "execution_count": 36,
   "metadata": {},
   "outputs": [],
   "source": [
    "# Clean weight\n",
    "if (verbose):\n",
    "    print(f'Range of weights: {clean_data[\"weight\"].min()} - {clean_data[\"weight\"].max()}')\n",
    "    print(f'Number of nulls: {(clean_data.loc[clean_data[\"weight\"].isna()]).shape[0]}')\n",
    "\n",
    "# Nothing to clean"
   ]
  },
  {
   "cell_type": "code",
   "execution_count": 37,
   "metadata": {},
   "outputs": [],
   "source": [
    "# Clean BMI\n",
    "if (verbose):\n",
    "    print(f'Range of BMI: {clean_data[\"bmi\"].min()} - {clean_data[\"bmi\"].max()}')\n",
    "    print(f'Number of nulls: {(clean_data.loc[clean_data[\"bmi\"].isna()]).shape[0]}')\n",
    "\n",
    "# Nothing to clean"
   ]
  },
  {
   "cell_type": "code",
   "execution_count": 38,
   "metadata": {},
   "outputs": [],
   "source": [
    "# Clean SBP\n",
    "clean_data = rmv3StdNull(clean_data, 'sbp', 'Systolic Blood Pressure', verbose=verbose)"
   ]
  },
  {
   "cell_type": "code",
   "execution_count": 39,
   "metadata": {},
   "outputs": [],
   "source": [
    "# Clean DBP\n",
    "clean_data = rmv3StdNull(clean_data, 'dbp', 'Diastolic Blood Pressure', verbose=verbose)"
   ]
  },
  {
   "cell_type": "code",
   "execution_count": 40,
   "metadata": {},
   "outputs": [],
   "source": [
    "# Clean FPG\n",
    "clean_data = rmv3StdNull(clean_data, 'fpg', 'FPG', verbose=verbose, null_rem=False, std_rem=False)"
   ]
  },
  {
   "cell_type": "code",
   "execution_count": 41,
   "metadata": {},
   "outputs": [],
   "source": [
    "# Clean cholesterol\n",
    "clean_data = rmv3StdNull(clean_data, 'chol', 'Cholesterol', verbose=verbose, std_rem=False)"
   ]
  },
  {
   "cell_type": "code",
   "execution_count": 42,
   "metadata": {},
   "outputs": [],
   "source": [
    "# Clean triglyceride\n",
    "clean_data = rmv3StdNull(clean_data, 'tg', 'Triglyceride', verbose=verbose, std_rem=False)"
   ]
  },
  {
   "cell_type": "code",
   "execution_count": 43,
   "metadata": {},
   "outputs": [],
   "source": [
    "# Clean HDLC\n",
    "clean_data = rmv3StdNull(clean_data, 'hdlc', 'High Density Lipoprotein Cholesterol', verbose=verbose, null_rem=False)"
   ]
  },
  {
   "cell_type": "code",
   "execution_count": 44,
   "metadata": {},
   "outputs": [],
   "source": [
    "# Clean LDL\n",
    "clean_data = rmv3StdNull(clean_data, 'ldl', 'Low Density Lipoprotein', verbose=verbose, null_rem=False)"
   ]
  },
  {
   "cell_type": "code",
   "execution_count": 45,
   "metadata": {},
   "outputs": [],
   "source": [
    "# Clean ALT\n",
    "clean_data = rmv3StdNull(clean_data, 'alt', 'Alanine Transaminase', verbose=verbose, null_rem=False, std_rem=False)"
   ]
  },
  {
   "cell_type": "code",
   "execution_count": 46,
   "metadata": {},
   "outputs": [],
   "source": [
    "# Clean AST\n",
    "clean_data = rmv3StdNull(clean_data, 'ast', 'AST', verbose=verbose, null_rem=False, std_rem=False)"
   ]
  },
  {
   "cell_type": "code",
   "execution_count": 47,
   "metadata": {},
   "outputs": [],
   "source": [
    "# Clean BUN\n",
    "clean_data = rmv3StdNull(clean_data, 'bun', 'Blood Urea Nitrogen', verbose=verbose, null_rem=False, std_rem=False)"
   ]
  },
  {
   "cell_type": "code",
   "execution_count": 48,
   "metadata": {},
   "outputs": [],
   "source": [
    "# Clean CCR\n",
    "clean_data = rmv3StdNull(clean_data, 'ccr', 'Creatine Reduction Ratio', verbose=verbose, null_rem=False, std_rem=False)"
   ]
  },
  {
   "cell_type": "code",
   "execution_count": 49,
   "metadata": {},
   "outputs": [],
   "source": [
    "# Clean FPG\n",
    "clean_data = rmv3StdNull(clean_data, 'fpg_final', 'FPG of Final Visit', verbose=verbose, null_rem=False, std_rem=False)"
   ]
  },
  {
   "cell_type": "code",
   "execution_count": 50,
   "metadata": {},
   "outputs": [],
   "source": [
    "# Get data info\n",
    "if (verbose):\n",
    "    clean_data.info()\n",
    "    print(f'People with diabetes: {clean_data[clean_data[\"diabetes\"] == 1].shape[0]}')"
   ]
  },
  {
   "cell_type": "code",
   "execution_count": 51,
   "metadata": {},
   "outputs": [],
   "source": [
    "# Clean smoker column\n",
    "clean_data['smoker'].loc[clean_data['smoker'].isna()] = 0\n",
    "clean_data['smoker'] = clean_data['smoker'].replace({0: 'no info', 1: 'current smoker', 2: 'former smoker', 3: 'never smoker'})\n",
    "\n",
    "# Check to see columns are all filled\n",
    "if (verbose):\n",
    "    print(f'Smokers in dataset: {clean_data[\"smoker\"].unique()}')"
   ]
  },
  {
   "cell_type": "code",
   "execution_count": 52,
   "metadata": {},
   "outputs": [
    {
     "name": "stderr",
     "output_type": "stream",
     "text": [
      "/Library/Frameworks/Python.framework/Versions/3.9/lib/python3.9/site-packages/pandas/core/indexing.py:1732: SettingWithCopyWarning: \n",
      "A value is trying to be set on a copy of a slice from a DataFrame\n",
      "\n",
      "See the caveats in the documentation: https://pandas.pydata.org/pandas-docs/stable/user_guide/indexing.html#returning-a-view-versus-a-copy\n",
      "  self._setitem_single_block(indexer, value, name)\n"
     ]
    }
   ],
   "source": [
    "# Clean drinker column\n",
    "clean_data['drinker'].loc[clean_data['drinker'].isna()] = 0\n",
    "clean_data['drinker'] = clean_data['drinker'].replace({0: 'no info', 1: 'current drinker', 2: 'former drinker', 3: 'never drinker'})\n",
    "\n",
    "# Check to see columns are all filled\n",
    "if (verbose):\n",
    "    print(f'Drinkers in dataset: {clean_data[\"drinker\"].unique()}')"
   ]
  },
  {
   "cell_type": "code",
   "execution_count": 53,
   "metadata": {},
   "outputs": [],
   "source": [
    "# Clean family history column\n",
    "clean_data = clean_data.loc[clean_data['fam_hist'].notna()]\n",
    "clean_data['fam_hist'] = clean_data['fam_hist'].replace({0: 'no family history of diabetes', 1: 'family history of diabetes'})\n",
    "\n",
    "# Check to see columns are all filled\n",
    "if (verbose):\n",
    "    print(f'Family history of diabetes in dataset: {clean_data[\"fam_hist\"].unique()}')"
   ]
  },
  {
   "cell_type": "code",
   "execution_count": 54,
   "metadata": {},
   "outputs": [],
   "source": [
    "# Clean diabetes column\n",
    "clean_data = clean_data.loc[clean_data['diabetes'].notna()]\n",
    "clean_data['diabetes'] = clean_data['diabetes'].replace({0: 'no', 1: 'yes'})\n",
    "\n",
    "# Check to see columns are all filled\n",
    "if (verbose):\n",
    "    print(f'Diabetes diagnoses in dataset: {clean_data[\"diabetes\"].unique()}')"
   ]
  },
  {
   "cell_type": "code",
   "execution_count": 55,
   "metadata": {},
   "outputs": [],
   "source": [
    "# Get data info\n",
    "if (verbose):\n",
    "    clean_data.info()\n",
    "    print(f'People with diabetes: {clean_data[clean_data[\"diabetes\"] == \"yes\"].shape[0]}')"
   ]
  },
  {
   "cell_type": "code",
   "execution_count": 56,
   "metadata": {},
   "outputs": [
    {
     "name": "stderr",
     "output_type": "stream",
     "text": [
      "/var/folders/23/5p0ycg913qq12vh3l31n93zc0000gn/T/ipykernel_40888/4229929504.py:36: SettingWithCopyWarning: \n",
      "A value is trying to be set on a copy of a slice from a DataFrame.\n",
      "Try using .loc[row_indexer,col_indexer] = value instead\n",
      "\n",
      "See the caveats in the documentation: https://pandas.pydata.org/pandas-docs/stable/user_guide/indexing.html#returning-a-view-versus-a-copy\n",
      "  numeric_data[:] = ss.transform(numeric_data)\n",
      "/Library/Frameworks/Python.framework/Versions/3.9/lib/python3.9/site-packages/pandas/core/indexing.py:1835: SettingWithCopyWarning: \n",
      "A value is trying to be set on a copy of a slice from a DataFrame.\n",
      "Try using .loc[row_indexer,col_indexer] = value instead\n",
      "\n",
      "See the caveats in the documentation: https://pandas.pydata.org/pandas-docs/stable/user_guide/indexing.html#returning-a-view-versus-a-copy\n",
      "  self._setitem_single_column(loc, value[:, i].tolist(), pi)\n"
     ]
    }
   ],
   "source": [
    "rename_dict = {\n",
    "    'Age (y)': 'age',\n",
    "    'Gender(1, male; 2, female)': 'sex',\n",
    "    'height(cm)': 'height',\n",
    "    'weight(kg)': 'weight',\n",
    "    'BMI(kg/m2)': 'bmi',\n",
    "    'SBP(mmHg)': 'sbp',\n",
    "    'DBP(mmHg)': 'dbp',\n",
    "    'FPG (mmol/L)': 'fpg',\n",
    "    'Cholesterol(mmol/L)': 'chol',\n",
    "    'Triglyceride(mmol/L)': 'tg',\n",
    "    'HDL-c(mmol/L)': 'hdlc',\n",
    "    'LDL(mmol/L)': 'ldl',\n",
    "    'ALT(U/L)': 'alt',\n",
    "    'AST(U/L)': 'ast',\n",
    "    'BUN(mmol/L)': 'bun',\n",
    "    'CCR(umol/L)': 'ccr',\n",
    "    'FPG of final visit(mmol/L)': 'fpg_final',\n",
    "    'censor of diabetes at followup(1, Yes; 0, No)': 'diabetes',\n",
    "    'smoking status(1,current smoker;2, ever smoker;3,never smoker)': 'smoker',\n",
    "    'drinking status(1,current drinker;2, ever drinker;3,never drinker)': 'drinker',\n",
    "    'family histroy of diabetes(1,Yes;0,No)': 'fam_hist'\n",
    "}\n",
    "\n",
    "# Separate out the categorical and numeric data\n",
    "numeric_data = clean_data[['age', 'height', 'weight', 'bmi', 'sbp', 'dbp', 'fpg', 'chol',\n",
    "    'tg', 'hdlc', 'ldl', 'alt', 'ast', 'bun', 'ccr', 'fpg_final']]\n",
    "categorical_data = clean_data[['sex', 'smoker', 'drinker', 'fam_hist']]\n",
    "\n",
    "# Create columns for each categorical data column\n",
    "categorical_data = pd.get_dummies(categorical_data, drop_first=True)\n",
    "\n",
    "# Standardize numeric data columns\n",
    "ss = StandardScaler()\n",
    "ss.fit(numeric_data)\n",
    "numeric_data[:] = ss.transform(numeric_data)\n",
    "\n",
    "# Create standardized dataset\n",
    "standardized = pd.concat([categorical_data, numeric_data, clean_data['diabetes']], axis=1)\n"
   ]
  },
  {
   "cell_type": "code",
   "execution_count": 57,
   "metadata": {},
   "outputs": [],
   "source": [
    "# Save cleaned data\n",
    "clean_data.to_csv('data_clean.csv')\n",
    "standardized.to_csv('data_standardized.csv')"
   ]
  }
 ],
 "metadata": {
  "kernelspec": {
   "display_name": "Python 3.9.7 64-bit",
   "language": "python",
   "name": "python3"
  },
  "language_info": {
   "codemirror_mode": {
    "name": "ipython",
    "version": 3
   },
   "file_extension": ".py",
   "mimetype": "text/x-python",
   "name": "python",
   "nbconvert_exporter": "python",
   "pygments_lexer": "ipython3",
   "version": "3.9.7"
  },
  "orig_nbformat": 4,
  "vscode": {
   "interpreter": {
    "hash": "aee8b7b246df8f9039afb4144a1f6fd8d2ca17a180786b69acc140d282b71a49"
   }
  }
 },
 "nbformat": 4,
 "nbformat_minor": 2
}

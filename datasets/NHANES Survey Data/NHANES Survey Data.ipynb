{
 "cells": [
  {
   "cell_type": "code",
   "execution_count": 189,
   "metadata": {},
   "outputs": [],
   "source": [
    "import pandas as pd\n",
    "import numpy as np\n",
    "questionanaire = pd.read_csv(r'questionnaire.csv')\n",
    "exam = pd.read_csv(r'examination.csv')\n",
    "demo = pd.read_csv(r'demographic.csv')"
   ]
  },
  {
   "cell_type": "code",
   "execution_count": 190,
   "metadata": {},
   "outputs": [],
   "source": [
    "questionanaire = questionanaire[['SEQN', 'ALQ101','ALQ120Q','BPQ020','BPQ030','DIQ010','DIQ160','DIQ170','DBD895','INDFMMPI','SMQ020','SMQ040','WHD010','WHD020']]\n",
    "exam = exam[['SEQN','BPXSY1','BPXDI1']]\n",
    "demo = demo[['SEQN', 'RIAGENDR', 'RIDAGEYR', 'RIDRETH3', 'DMDEDUC2', 'INDHHIN2']]"
   ]
  },
  {
   "cell_type": "code",
   "execution_count": 191,
   "metadata": {},
   "outputs": [],
   "source": [
    "df = pd.merge(exam, questionanaire, how='inner', on = ['SEQN'])"
   ]
  },
  {
   "cell_type": "code",
   "execution_count": 192,
   "metadata": {},
   "outputs": [],
   "source": [
    "df2 = pd.merge(df, demo, how='inner', on=['SEQN'])"
   ]
  },
  {
   "cell_type": "code",
   "execution_count": 193,
   "metadata": {},
   "outputs": [
    {
     "name": "stdout",
     "output_type": "stream",
     "text": [
      "<class 'pandas.core.frame.DataFrame'>\n",
      "Int64Index: 9813 entries, 0 to 9812\n",
      "Data columns (total 21 columns):\n",
      " #   Column    Non-Null Count  Dtype  \n",
      "---  ------    --------------  -----  \n",
      " 0   SEQN      9813 non-null   int64  \n",
      " 1   BPXSY1    7172 non-null   float64\n",
      " 2   BPXDI1    7172 non-null   float64\n",
      " 3   ALQ101    5421 non-null   float64\n",
      " 4   ALQ120Q   4479 non-null   float64\n",
      " 5   BPQ020    6266 non-null   float64\n",
      " 6   BPQ030    2118 non-null   float64\n",
      " 7   DIQ010    9421 non-null   float64\n",
      " 8   DIQ160    6086 non-null   float64\n",
      " 9   DIQ170    6262 non-null   float64\n",
      " 10  DBD895    9379 non-null   float64\n",
      " 11  INDFMMPI  8813 non-null   float64\n",
      " 12  SMQ020    5924 non-null   float64\n",
      " 13  SMQ040    2490 non-null   float64\n",
      " 14  WHD010    6243 non-null   float64\n",
      " 15  WHD020    6232 non-null   float64\n",
      " 16  RIAGENDR  9813 non-null   int64  \n",
      " 17  RIDAGEYR  9813 non-null   int64  \n",
      " 18  RIDRETH3  9813 non-null   int64  \n",
      " 19  DMDEDUC2  5588 non-null   float64\n",
      " 20  INDHHIN2  9700 non-null   float64\n",
      "dtypes: float64(17), int64(4)\n",
      "memory usage: 1.6 MB\n"
     ]
    }
   ],
   "source": [
    "df2.info()"
   ]
  },
  {
   "cell_type": "code",
   "execution_count": 194,
   "metadata": {},
   "outputs": [],
   "source": [
    "df2.rename(columns= {'SEQN':'SurveyID', 'BPXSY1':'SystolicBP','BPXDI1':'DiastolicBP','ALQ101':'12drinksInaYear','ALQ120Q':'DrinksInLastYear','BPQ020':'BeenDiagnostedHypertenisve',\n",
    "            'BPQ030':'MultipleHypertensionDiagnosis','DIQ010':'DiagnosedDiabetic','DIQ160':'DiagnosedPrediabetic','DIQ170':'DiagnosedAtRiskDiabetes','DBD895':'NumMealsNotAtHomePerMonth',\n",
    "            'INDFMMPI':'FamilyMonthlyPovertLevel','SMQ020':'Smoked100cigs','SMQ040':'CurrentSmoker','WHD010':'Height','WHD020':'Weight','RIAGENDR':'Gender',\n",
    "            'RIDAGEYR':'Age(yrs)','RIDRETH3':'Ethnicity','DMDEDUC2':'AdultEducationLevel','INDHHIN2':'AnnualHouseholdIncome'}, inplace= True)"
   ]
  },
  {
   "cell_type": "code",
   "execution_count": 195,
   "metadata": {},
   "outputs": [
    {
     "name": "stdout",
     "output_type": "stream",
     "text": [
      "<class 'pandas.core.frame.DataFrame'>\n",
      "Int64Index: 9813 entries, 0 to 9812\n",
      "Data columns (total 21 columns):\n",
      " #   Column                         Non-Null Count  Dtype  \n",
      "---  ------                         --------------  -----  \n",
      " 0   SurveyID                       9813 non-null   int64  \n",
      " 1   SystolicBP                     7172 non-null   float64\n",
      " 2   DiastolicBP                    7172 non-null   float64\n",
      " 3   12drinksInaYear                5421 non-null   float64\n",
      " 4   DrinksInLastYear               4479 non-null   float64\n",
      " 5   BeenDiagnostedHypertenisve     6266 non-null   float64\n",
      " 6   MultipleHypertensionDiagnosis  2118 non-null   float64\n",
      " 7   DiagnosedDiabetic              9421 non-null   float64\n",
      " 8   DiagnosedPrediabetic           6086 non-null   float64\n",
      " 9   DiagnosedAtRiskDiabetes        6262 non-null   float64\n",
      " 10  NumMealsNotAtHomePerMonth      9379 non-null   float64\n",
      " 11  FamilyMonthlyPovertLevel       8813 non-null   float64\n",
      " 12  Smoked100cigs                  5924 non-null   float64\n",
      " 13  CurrentSmoker                  2490 non-null   float64\n",
      " 14  Height                         6243 non-null   float64\n",
      " 15  Weight                         6232 non-null   float64\n",
      " 16  Gender                         9813 non-null   int64  \n",
      " 17  Age(yrs)                       9813 non-null   int64  \n",
      " 18  Ethnicity                      9813 non-null   int64  \n",
      " 19  AdultEducationLevel            5588 non-null   float64\n",
      " 20  AnnualHouseholdIncome          9700 non-null   float64\n",
      "dtypes: float64(17), int64(4)\n",
      "memory usage: 1.6 MB\n"
     ]
    }
   ],
   "source": [
    "df2.info()"
   ]
  },
  {
   "cell_type": "code",
   "execution_count": 196,
   "metadata": {},
   "outputs": [],
   "source": [
    "df2['BMI'] = df2['Weight'].mul(703) / df2['Height'].pow(2)"
   ]
  },
  {
   "cell_type": "code",
   "execution_count": 197,
   "metadata": {},
   "outputs": [
    {
     "name": "stdout",
     "output_type": "stream",
     "text": [
      "<class 'pandas.core.frame.DataFrame'>\n",
      "Int64Index: 9813 entries, 0 to 9812\n",
      "Data columns (total 22 columns):\n",
      " #   Column                         Non-Null Count  Dtype  \n",
      "---  ------                         --------------  -----  \n",
      " 0   SurveyID                       9813 non-null   int64  \n",
      " 1   SystolicBP                     7172 non-null   float64\n",
      " 2   DiastolicBP                    7172 non-null   float64\n",
      " 3   12drinksInaYear                5421 non-null   float64\n",
      " 4   DrinksInLastYear               4479 non-null   float64\n",
      " 5   BeenDiagnostedHypertenisve     6266 non-null   float64\n",
      " 6   MultipleHypertensionDiagnosis  2118 non-null   float64\n",
      " 7   DiagnosedDiabetic              9421 non-null   float64\n",
      " 8   DiagnosedPrediabetic           6086 non-null   float64\n",
      " 9   DiagnosedAtRiskDiabetes        6262 non-null   float64\n",
      " 10  NumMealsNotAtHomePerMonth      9379 non-null   float64\n",
      " 11  FamilyMonthlyPovertLevel       8813 non-null   float64\n",
      " 12  Smoked100cigs                  5924 non-null   float64\n",
      " 13  CurrentSmoker                  2490 non-null   float64\n",
      " 14  Height                         6243 non-null   float64\n",
      " 15  Weight                         6232 non-null   float64\n",
      " 16  Gender                         9813 non-null   int64  \n",
      " 17  Age(yrs)                       9813 non-null   int64  \n",
      " 18  Ethnicity                      9813 non-null   int64  \n",
      " 19  AdultEducationLevel            5588 non-null   float64\n",
      " 20  AnnualHouseholdIncome          9700 non-null   float64\n",
      " 21  BMI                            6210 non-null   float64\n",
      "dtypes: float64(18), int64(4)\n",
      "memory usage: 1.7 MB\n"
     ]
    }
   ],
   "source": [
    "df2.info()"
   ]
  },
  {
   "cell_type": "code",
   "execution_count": 198,
   "metadata": {},
   "outputs": [],
   "source": [
    "df2['12drinksInaYear'] = df2['12drinksInaYear'].astype(str)"
   ]
  },
  {
   "cell_type": "code",
   "execution_count": 199,
   "metadata": {},
   "outputs": [
    {
     "data": {
      "text/plain": [
       "array(['1.0', 'nan', '2.0', '9.0'], dtype=object)"
      ]
     },
     "execution_count": 199,
     "metadata": {},
     "output_type": "execute_result"
    }
   ],
   "source": [
    "df2['12drinksInaYear'].unique()"
   ]
  },
  {
   "cell_type": "code",
   "execution_count": 200,
   "metadata": {},
   "outputs": [
    {
     "data": {
      "text/plain": [
       "array(['Yes', 'Unknown', 'No'], dtype=object)"
      ]
     },
     "execution_count": 200,
     "metadata": {},
     "output_type": "execute_result"
    }
   ],
   "source": [
    "df2['12drinksInaYear'] = df2['12drinksInaYear'].replace(['1.0'], 'Yes')\n",
    "df2['12drinksInaYear'] = df2['12drinksInaYear'].replace(['2.0'], 'No')\n",
    "df2['12drinksInaYear'] = df2['12drinksInaYear'].replace(['9.0'], 'Unknown')\n",
    "df2['12drinksInaYear'] = df2['12drinksInaYear'].replace(['nan'], 'Unknown')\n",
    "df2['12drinksInaYear'].unique()"
   ]
  },
  {
   "cell_type": "code",
   "execution_count": 201,
   "metadata": {},
   "outputs": [],
   "source": [
    "df2['DrinksInLastYear'] = df2['12drinksInaYear'].replace([999.0], 0)"
   ]
  },
  {
   "cell_type": "code",
   "execution_count": 202,
   "metadata": {},
   "outputs": [],
   "source": [
    "df2['BeenDiagnostedHypertenisve'] = df2['BeenDiagnostedHypertenisve'].astype(str)"
   ]
  },
  {
   "cell_type": "code",
   "execution_count": 203,
   "metadata": {},
   "outputs": [
    {
     "data": {
      "text/plain": [
       "array(['Yes', 'Unknown', 'No'], dtype=object)"
      ]
     },
     "execution_count": 203,
     "metadata": {},
     "output_type": "execute_result"
    }
   ],
   "source": [
    "\n",
    "df2['BeenDiagnostedHypertenisve'] = df2['BeenDiagnostedHypertenisve'].replace(['1.0'], 'Yes')\n",
    "df2['BeenDiagnostedHypertenisve'] = df2['BeenDiagnostedHypertenisve'].replace(['2.0'], 'No')\n",
    "df2['BeenDiagnostedHypertenisve'] = df2['BeenDiagnostedHypertenisve'].replace(['9.0'], 'Unknown')\n",
    "df2['BeenDiagnostedHypertenisve'] = df2['BeenDiagnostedHypertenisve'].replace(['nan'], 'Unknown')\n",
    "df2['BeenDiagnostedHypertenisve'].unique()"
   ]
  },
  {
   "cell_type": "code",
   "execution_count": 204,
   "metadata": {},
   "outputs": [],
   "source": [
    "df2['MultipleHypertensionDiagnosis'] = df2['MultipleHypertensionDiagnosis'].astype(str)"
   ]
  },
  {
   "cell_type": "code",
   "execution_count": 205,
   "metadata": {},
   "outputs": [
    {
     "data": {
      "text/plain": [
       "array(['Yes', 'Unknown', 'No'], dtype=object)"
      ]
     },
     "execution_count": 205,
     "metadata": {},
     "output_type": "execute_result"
    }
   ],
   "source": [
    "df2['MultipleHypertensionDiagnosis'] = df2['MultipleHypertensionDiagnosis'].replace(['1.0'], 'Yes')\n",
    "df2['MultipleHypertensionDiagnosis'] = df2['MultipleHypertensionDiagnosis'].replace(['2.0'], 'No')\n",
    "df2['MultipleHypertensionDiagnosis'] = df2['MultipleHypertensionDiagnosis'].replace(['9.0'], 'Unknown')\n",
    "df2['MultipleHypertensionDiagnosis'] = df2['MultipleHypertensionDiagnosis'].replace(['nan'], 'Unknown')\n",
    "df2['MultipleHypertensionDiagnosis'].unique()"
   ]
  },
  {
   "cell_type": "code",
   "execution_count": 206,
   "metadata": {},
   "outputs": [],
   "source": [
    "df2['DiagnosedDiabetic'] = df2['DiagnosedDiabetic'].astype(str)"
   ]
  },
  {
   "cell_type": "code",
   "execution_count": 207,
   "metadata": {},
   "outputs": [
    {
     "data": {
      "text/plain": [
       "array(['1.0', '2.0', 'nan', '3.0', '9.0', '7.0'], dtype=object)"
      ]
     },
     "execution_count": 207,
     "metadata": {},
     "output_type": "execute_result"
    }
   ],
   "source": [
    "df2['DiagnosedDiabetic'].unique()"
   ]
  },
  {
   "cell_type": "code",
   "execution_count": 208,
   "metadata": {},
   "outputs": [
    {
     "data": {
      "text/plain": [
       "array(['Yes', 'No', 'Unknown', 'Borderline', 'Refused'], dtype=object)"
      ]
     },
     "execution_count": 208,
     "metadata": {},
     "output_type": "execute_result"
    }
   ],
   "source": [
    "df2['DiagnosedDiabetic'] = df2['DiagnosedDiabetic'].replace(['1.0'], 'Yes')\n",
    "df2['DiagnosedDiabetic'] = df2['DiagnosedDiabetic'].replace(['2.0'], 'No')\n",
    "df2['DiagnosedDiabetic'] = df2['DiagnosedDiabetic'].replace(['3.0'], 'Borderline')\n",
    "df2['DiagnosedDiabetic'] = df2['DiagnosedDiabetic'].replace(['7.0'], 'Refused')\n",
    "df2['DiagnosedDiabetic'] = df2['DiagnosedDiabetic'].replace(['9.0'], 'Unknown')\n",
    "df2['DiagnosedDiabetic'] = df2['DiagnosedDiabetic'].replace(['nan'], 'Unknown')\n",
    "df2['DiagnosedDiabetic'].unique()"
   ]
  },
  {
   "cell_type": "code",
   "execution_count": 209,
   "metadata": {},
   "outputs": [
    {
     "data": {
      "text/plain": [
       "array(['nan', '2.0', '1.0', '9.0'], dtype=object)"
      ]
     },
     "execution_count": 209,
     "metadata": {},
     "output_type": "execute_result"
    }
   ],
   "source": [
    "df2['DiagnosedPrediabetic'] = df2['DiagnosedPrediabetic'].astype(str)\n",
    "df2['DiagnosedPrediabetic'].unique()"
   ]
  },
  {
   "cell_type": "code",
   "execution_count": 210,
   "metadata": {},
   "outputs": [
    {
     "data": {
      "text/plain": [
       "array(['Unknown', 'No', 'Yes'], dtype=object)"
      ]
     },
     "execution_count": 210,
     "metadata": {},
     "output_type": "execute_result"
    }
   ],
   "source": [
    "df2['DiagnosedPrediabetic'] = df2['DiagnosedPrediabetic'].replace(['1.0'], 'Yes')\n",
    "df2['DiagnosedPrediabetic'] = df2['DiagnosedPrediabetic'].replace(['2.0'], 'No')\n",
    "df2['DiagnosedPrediabetic'] = df2['DiagnosedPrediabetic'].replace(['7.0'], 'Refused')\n",
    "df2['DiagnosedPrediabetic'] = df2['DiagnosedPrediabetic'].replace(['9.0'], 'Unknown')\n",
    "df2['DiagnosedPrediabetic'] = df2['DiagnosedPrediabetic'].replace(['nan'], 'Unknown')\n",
    "df2['DiagnosedPrediabetic'].unique()"
   ]
  },
  {
   "cell_type": "code",
   "execution_count": 211,
   "metadata": {},
   "outputs": [
    {
     "data": {
      "text/plain": [
       "array(['nan', '2.0', '1.0', '9.0'], dtype=object)"
      ]
     },
     "execution_count": 211,
     "metadata": {},
     "output_type": "execute_result"
    }
   ],
   "source": [
    "df2['DiagnosedAtRiskDiabetes'] = df2['DiagnosedAtRiskDiabetes'].astype(str)\n",
    "df2['DiagnosedAtRiskDiabetes'].unique()"
   ]
  },
  {
   "cell_type": "code",
   "execution_count": 212,
   "metadata": {},
   "outputs": [
    {
     "data": {
      "text/plain": [
       "array(['Unknown', 'No', 'Yes'], dtype=object)"
      ]
     },
     "execution_count": 212,
     "metadata": {},
     "output_type": "execute_result"
    }
   ],
   "source": [
    "df2['DiagnosedAtRiskDiabetes'] = df2['DiagnosedAtRiskDiabetes'].replace(['1.0'], 'Yes')\n",
    "df2['DiagnosedAtRiskDiabetes'] = df2['DiagnosedAtRiskDiabetes'].replace(['2.0'], 'No')\n",
    "df2['DiagnosedAtRiskDiabetes'] = df2['DiagnosedAtRiskDiabetes'].replace(['7.0'], 'Refused')\n",
    "df2['DiagnosedAtRiskDiabetes'] = df2['DiagnosedAtRiskDiabetes'].replace(['9.0'], 'Unknown')\n",
    "df2['DiagnosedAtRiskDiabetes'] = df2['DiagnosedAtRiskDiabetes'].replace(['nan'], 'Unknown')\n",
    "df2['DiagnosedAtRiskDiabetes'].unique()"
   ]
  },
  {
   "cell_type": "code",
   "execution_count": 213,
   "metadata": {},
   "outputs": [
    {
     "data": {
      "text/plain": [
       "array([ 8.,  0.,  1., 14.,  2.,  5.,  3.,  4.,  7., 10., 15., 12.,  6.,\n",
       "        9., 21., 17., 11., 20., 16., 19., 13., 18.])"
      ]
     },
     "execution_count": 213,
     "metadata": {},
     "output_type": "execute_result"
    }
   ],
   "source": [
    "#df2['NumMealsNotAtHomePerMonth'] = df2['NumMealsNotAtHomePerMonth'].astype(int)\n",
    "df2['NumMealsNotAtHomePerMonth'] = df2['NumMealsNotAtHomePerMonth'].replace(5555, 21)\n",
    "df2['NumMealsNotAtHomePerMonth'] = df2['NumMealsNotAtHomePerMonth'].replace(7777, np.nan)\n",
    "df2['NumMealsNotAtHomePerMonth'] = df2['NumMealsNotAtHomePerMonth'].replace(9999, np.nan)\n",
    "df2['NumMealsNotAtHomePerMonth'] = df2['NumMealsNotAtHomePerMonth'].fillna(df2['NumMealsNotAtHomePerMonth'].median())\n",
    "df2['NumMealsNotAtHomePerMonth'].unique()"
   ]
  },
  {
   "cell_type": "code",
   "execution_count": 214,
   "metadata": {},
   "outputs": [
    {
     "data": {
      "text/plain": [
       "array([0.86, 0.92, 4.37, 2.52, 5.  , 4.18, 0.51, 1.14, 3.03, 0.91, 0.55,\n",
       "       1.72, 0.76, 0.3 , 1.54, 4.3 , 2.46, 4.64, 1.27, 2.66, 1.84, 1.46,\n",
       "       1.18, 2.06, 3.77, 0.41, 2.32, 2.43, 1.83, 1.21, 2.72, 4.28, 3.48,\n",
       "       1.22, 0.75, 1.04, 1.88, 2.28, 0.67, 1.25, 0.38, 0.93, 4.03, 0.68,\n",
       "       2.16, 2.18, 2.29, 4.78, 2.55, 0.26, 2.3 , 1.6 , 0.72, 1.78, 3.  ,\n",
       "       2.8 , 2.76, 1.91, 0.23, 1.52, 3.87, 1.82, 3.34, 0.59, 4.94, 4.53,\n",
       "       3.81, 0.65, 0.4 , 0.15, 0.88, 0.82, 1.41, 2.09, 2.33, 1.29, 0.36,\n",
       "       2.01, 1.23, 2.63, 1.13, 0.85, 0.8 , 3.05, 1.85, 1.38, 0.47, 4.12,\n",
       "       1.7 , 0.74, 3.13, 2.9 , 0.61, 3.75, 2.65, 2.77, 0.87, 0.  , 1.01,\n",
       "       0.69, 1.03, 2.39, 1.94, 0.98, 1.65, 3.26, 2.04, 0.39, 2.4 , 1.07,\n",
       "       0.22, 1.75, 3.66, 4.36, 4.35, 0.52, 0.63, 2.08, 0.37, 1.08, 2.58,\n",
       "       3.02, 3.19, 2.36, 0.46, 4.49, 1.34, 3.06, 4.88, 2.71, 0.19, 2.15,\n",
       "       0.2 , 2.67, 2.87, 1.35, 1.95, 1.2 , 1.57, 0.73, 1.74, 3.4 , 1.9 ,\n",
       "       1.51, 1.53, 3.82, 1.16, 2.03, 3.57, 1.17, 4.08, 0.25, 1.99, 0.45,\n",
       "       0.64, 0.35, 2.85, 2.57, 0.84, 0.7 , 1.06, 1.37, 3.09, 0.56, 0.08,\n",
       "       1.93, 0.21, 1.09, 4.04, 1.  , 1.61, 4.19, 2.37, 4.11, 3.7 , 2.17,\n",
       "       3.69, 1.26, 4.55, 0.31, 1.43, 2.79, 1.68, 0.99, 4.42, 1.02, 3.33,\n",
       "       0.33, 2.25, 0.9 , 1.79, 1.31, 2.92, 0.48, 0.66, 0.57, 1.5 , 1.92,\n",
       "       0.54, 3.42, 1.67, 0.28, 1.15, 2.61, 1.12, 0.81, 3.01, 0.5 , 2.97,\n",
       "       1.47, 1.39, 0.77, 1.58, 3.07, 2.95, 4.13, 4.96, 4.79, 0.71, 1.55,\n",
       "       0.95, 4.39, 1.11, 1.98, 1.44, 4.7 , 1.8 , 1.89, 3.52, 0.34, 3.11,\n",
       "       0.6 , 0.42, 3.04, 0.49, 3.74, 0.53, 0.43, 4.24, 3.27, 2.24, 4.58,\n",
       "       2.94, 1.33, 4.26, 0.96, 1.86, 1.96, 3.99, 4.92, 0.44, 1.66, 3.64,\n",
       "       0.78, 1.24, 0.03, 1.63, 2.  , 2.02, 1.81, 3.95, 0.79, 2.14, 0.24,\n",
       "       4.52, 0.17, 1.62, 1.19, 0.97, 2.12, 3.59, 0.94, 1.97, 2.82, 0.04,\n",
       "       3.83, 3.31, 2.5 , 4.85, 4.05, 4.84, 2.21, 2.81, 1.71, 4.59, 2.26,\n",
       "       3.16, 3.14, 4.67, 1.64, 4.73, 2.47, 0.89, 1.76, 0.83, 1.32, 3.94,\n",
       "       2.73, 4.33, 3.3 , 3.55, 0.18, 4.1 , 3.25, 3.92, 0.29, 2.19, 0.09,\n",
       "       4.01, 1.73, 2.99, 3.38, 3.1 , 2.44, 3.28, 0.12, 3.6 , 4.97, 1.87,\n",
       "       1.45, 3.65, 4.51, 4.22, 4.  , 3.71, 4.2 , 2.48, 0.27, 1.36, 3.43,\n",
       "       3.23, 3.76, 3.36, 3.08, 1.4 , 3.37, 1.28, 2.59, 3.8 , 3.2 , 0.62,\n",
       "       4.61, 0.13, 1.56, 2.96, 2.88, 2.83, 1.05, 0.1 , 2.51, 2.84, 2.91,\n",
       "       1.69, 1.3 , 2.11, 3.5 , 3.44, 4.63, 4.77, 2.42, 2.7 , 0.32, 2.27,\n",
       "       1.48, 1.49, 1.1 , 2.23, 2.07, 3.97, 3.49, 3.91, 0.05, 4.07, 4.16,\n",
       "       3.29, 2.64, 4.54, 2.75, 2.13, 2.89, 4.06, 2.86, 3.24, 0.01, 4.56,\n",
       "       3.56, 3.63, 3.32, 0.58, 3.46, 2.78, 3.22, 4.32, 3.58, 3.88, 0.16,\n",
       "       1.59, 3.86, 3.62, 0.02, 3.39, 4.8 ])"
      ]
     },
     "execution_count": 214,
     "metadata": {},
     "output_type": "execute_result"
    }
   ],
   "source": [
    "df2['FamilyMonthlyPovertLevel'] = df2['FamilyMonthlyPovertLevel'].fillna(df2['FamilyMonthlyPovertLevel'].median())\n",
    "df2['FamilyMonthlyPovertLevel'].unique()"
   ]
  },
  {
   "cell_type": "code",
   "execution_count": 215,
   "metadata": {},
   "outputs": [
    {
     "data": {
      "text/plain": [
       "array(['1.0', 'nan', '2.0', '9.0'], dtype=object)"
      ]
     },
     "execution_count": 215,
     "metadata": {},
     "output_type": "execute_result"
    }
   ],
   "source": [
    "df2['Smoked100cigs'] = df2['Smoked100cigs'].astype(str)\n",
    "df2['Smoked100cigs'].unique()"
   ]
  },
  {
   "cell_type": "code",
   "execution_count": 216,
   "metadata": {},
   "outputs": [
    {
     "data": {
      "text/plain": [
       "array(['Yes', 'Unknown', 'No'], dtype=object)"
      ]
     },
     "execution_count": 216,
     "metadata": {},
     "output_type": "execute_result"
    }
   ],
   "source": [
    "df2['Smoked100cigs'] = df2['Smoked100cigs'].replace(['1.0'], 'Yes')\n",
    "df2['Smoked100cigs'] = df2['Smoked100cigs'].replace(['2.0'], 'No')\n",
    "df2['Smoked100cigs'] = df2['Smoked100cigs'].replace(['9.0'], 'Unknown')\n",
    "df2['Smoked100cigs'] = df2['Smoked100cigs'].replace(['nan'], 'Unknown')\n",
    "df2['Smoked100cigs'].unique()"
   ]
  },
  {
   "cell_type": "code",
   "execution_count": 217,
   "metadata": {},
   "outputs": [
    {
     "data": {
      "text/plain": [
       "array(['3.0', '2.0', 'nan', '1.0'], dtype=object)"
      ]
     },
     "execution_count": 217,
     "metadata": {},
     "output_type": "execute_result"
    }
   ],
   "source": [
    "df2['CurrentSmoker'] = df2['CurrentSmoker'].astype(str)\n",
    "df2['CurrentSmoker'].unique()"
   ]
  },
  {
   "cell_type": "code",
   "execution_count": 218,
   "metadata": {},
   "outputs": [
    {
     "data": {
      "text/plain": [
       "array(['Yes', 'Unknown', 'No'], dtype=object)"
      ]
     },
     "execution_count": 218,
     "metadata": {},
     "output_type": "execute_result"
    }
   ],
   "source": [
    "df2['Smoked100cigs'] = df2['Smoked100cigs'].replace(['1.0'], 'Yes')\n",
    "df2['Smoked100cigs'] = df2['Smoked100cigs'].replace(['2.0'], 'Yes')\n",
    "df2['Smoked100cigs'] = df2['Smoked100cigs'].replace(['3.0'], 'No')\n",
    "df2['Smoked100cigs'] = df2['Smoked100cigs'].replace(['7.0'], 'Refused')\n",
    "df2['Smoked100cigs'] = df2['Smoked100cigs'].replace(['9.0'], 'Unknown')\n",
    "df2['Smoked100cigs'] = df2['Smoked100cigs'].replace(['nan'], 'Unknown')\n",
    "df2['Smoked100cigs'].unique()"
   ]
  },
  {
   "cell_type": "code",
   "execution_count": 219,
   "metadata": {},
   "outputs": [
    {
     "data": {
      "text/plain": [
       "array(['1', '2'], dtype=object)"
      ]
     },
     "execution_count": 219,
     "metadata": {},
     "output_type": "execute_result"
    }
   ],
   "source": [
    "df2['Gender'] = df2['Gender'].astype(str)\n",
    "df2['Gender'].unique()"
   ]
  },
  {
   "cell_type": "code",
   "execution_count": 221,
   "metadata": {},
   "outputs": [
    {
     "data": {
      "text/plain": [
       "array(['Male', 'Female'], dtype=object)"
      ]
     },
     "execution_count": 221,
     "metadata": {},
     "output_type": "execute_result"
    }
   ],
   "source": [
    "df2['Gender'] = df2['Gender'].replace(['1'], 'Male')\n",
    "df2['Gender'] = df2['Gender'].replace(['2'], 'Female')\n",
    "df2['Gender'].unique()"
   ]
  },
  {
   "cell_type": "code",
   "execution_count": 222,
   "metadata": {},
   "outputs": [
    {
     "data": {
      "text/plain": [
       "array(['4', '3', '1', '7', '6', '2'], dtype=object)"
      ]
     },
     "execution_count": 222,
     "metadata": {},
     "output_type": "execute_result"
    }
   ],
   "source": [
    "df2['Ethnicity'] = df2['Ethnicity'].astype(str)\n",
    "df2['Ethnicity'].unique()"
   ]
  },
  {
   "cell_type": "code",
   "execution_count": 223,
   "metadata": {},
   "outputs": [
    {
     "data": {
      "text/plain": [
       "array(['Non-Hispanic Black', 'Non-Hispanic White', 'Mexican American',\n",
       "       'Other Race - Including Multi Racial', 'Non-Hispanic Asian',\n",
       "       'Other Hispanic'], dtype=object)"
      ]
     },
     "execution_count": 223,
     "metadata": {},
     "output_type": "execute_result"
    }
   ],
   "source": [
    "df2['Ethnicity'] = df2['Ethnicity'].replace(['1'], 'Mexican American')\n",
    "df2['Ethnicity'] = df2['Ethnicity'].replace(['2'], 'Other Hispanic')\n",
    "df2['Ethnicity'] = df2['Ethnicity'].replace(['3'], 'Non-Hispanic White')\n",
    "df2['Ethnicity'] = df2['Ethnicity'].replace(['4'], 'Non-Hispanic Black')\n",
    "df2['Ethnicity'] = df2['Ethnicity'].replace(['6'], 'Non-Hispanic Asian')\n",
    "df2['Ethnicity'] = df2['Ethnicity'].replace(['7'], 'Other Race - Including Multi Racial')\n",
    "df2['Ethnicity'].unique()"
   ]
  },
  {
   "cell_type": "code",
   "execution_count": 224,
   "metadata": {},
   "outputs": [
    {
     "data": {
      "text/plain": [
       "array(['3.0', '4.0', 'nan', '5.0', '2.0', '1.0', '9.0', '7.0'],\n",
       "      dtype=object)"
      ]
     },
     "execution_count": 224,
     "metadata": {},
     "output_type": "execute_result"
    }
   ],
   "source": [
    "df2['AdultEducationLevel'] = df2['AdultEducationLevel'].astype(str)\n",
    "df2['AdultEducationLevel'].unique()"
   ]
  },
  {
   "cell_type": "code",
   "execution_count": 225,
   "metadata": {},
   "outputs": [
    {
     "data": {
      "text/plain": [
       "array(['High School Diploma or GED/equivalent',\n",
       "       'Some College or Associates degree', 'Unknown',\n",
       "       'Bachelors or Higher', 'No High School Diploma or GED'],\n",
       "      dtype=object)"
      ]
     },
     "execution_count": 225,
     "metadata": {},
     "output_type": "execute_result"
    }
   ],
   "source": [
    "df2['AdultEducationLevel'] = df2['AdultEducationLevel'].replace(['1.0'], 'No High School Diploma or GED')\n",
    "df2['AdultEducationLevel'] = df2['AdultEducationLevel'].replace(['2.0'], 'No High School Diploma or GED')\n",
    "df2['AdultEducationLevel'] = df2['AdultEducationLevel'].replace(['3.0'], 'High School Diploma or GED/equivalent')\n",
    "df2['AdultEducationLevel'] = df2['AdultEducationLevel'].replace(['4.0'], 'Some College or Associates degree')\n",
    "df2['AdultEducationLevel'] = df2['AdultEducationLevel'].replace(['5.0'], 'Bachelors or Higher')\n",
    "df2['AdultEducationLevel'] = df2['AdultEducationLevel'].replace(['7.0'], 'Unknown')\n",
    "df2['AdultEducationLevel'] = df2['AdultEducationLevel'].replace(['9.0'], 'Unknown')\n",
    "df2['AdultEducationLevel'] = df2['AdultEducationLevel'].replace(['nan'], 'Unknown')\n",
    "df2['AdultEducationLevel'].unique()"
   ]
  },
  {
   "cell_type": "code",
   "execution_count": 226,
   "metadata": {},
   "outputs": [
    {
     "data": {
      "text/plain": [
       "array(['4.0', '7.0', '10.0', '9.0', '15.0', '3.0', '5.0', '14.0', '2.0',\n",
       "       '8.0', '12.0', '6.0', 'nan', '13.0', '1.0', '99.0', '77.0'],\n",
       "      dtype=object)"
      ]
     },
     "execution_count": 226,
     "metadata": {},
     "output_type": "execute_result"
    }
   ],
   "source": [
    "df2['AnnualHouseholdIncome'] = df2['AnnualHouseholdIncome'].astype(str)\n",
    "df2['AnnualHouseholdIncome'].unique()"
   ]
  },
  {
   "cell_type": "code",
   "execution_count": 227,
   "metadata": {},
   "outputs": [
    {
     "data": {
      "text/plain": [
       "array(['15,000 to 19,999', '35,000 to 44,999', '65,000 to 74,999',\n",
       "       '55,000 to 64,999', '100,000 and Over', '10,000 to 14,999',\n",
       "       '20,000 to 24,999', '75,000 to 99,999', '5,000 to 9,999',\n",
       "       '45,000 to 54,999', '20,000 and Over', '25,000 to 34,999',\n",
       "       'Unknown', 'Under 20,000', 'less than 5,000'], dtype=object)"
      ]
     },
     "execution_count": 227,
     "metadata": {},
     "output_type": "execute_result"
    }
   ],
   "source": [
    "df2['AnnualHouseholdIncome'] = df2['AnnualHouseholdIncome'].replace(['1.0'], 'less than 5,000')\n",
    "df2['AnnualHouseholdIncome'] = df2['AnnualHouseholdIncome'].replace(['2.0'], '5,000 to 9,999')\n",
    "df2['AnnualHouseholdIncome'] = df2['AnnualHouseholdIncome'].replace(['3.0'], '10,000 to 14,999')\n",
    "df2['AnnualHouseholdIncome'] = df2['AnnualHouseholdIncome'].replace(['4.0'], '15,000 to 19,999')\n",
    "df2['AnnualHouseholdIncome'] = df2['AnnualHouseholdIncome'].replace(['5.0'], '20,000 to 24,999')\n",
    "df2['AnnualHouseholdIncome'] = df2['AnnualHouseholdIncome'].replace(['6.0'], '25,000 to 34,999')\n",
    "df2['AnnualHouseholdIncome'] = df2['AnnualHouseholdIncome'].replace(['7.0'], '35,000 to 44,999')\n",
    "df2['AnnualHouseholdIncome'] = df2['AnnualHouseholdIncome'].replace(['8.0'], '45,000 to 54,999')\n",
    "df2['AnnualHouseholdIncome'] = df2['AnnualHouseholdIncome'].replace(['9.0'], '55,000 to 64,999')\n",
    "df2['AnnualHouseholdIncome'] = df2['AnnualHouseholdIncome'].replace(['10.0'], '65,000 to 74,999')\n",
    "df2['AnnualHouseholdIncome'] = df2['AnnualHouseholdIncome'].replace(['12.0'], '20,000 and Over')\n",
    "df2['AnnualHouseholdIncome'] = df2['AnnualHouseholdIncome'].replace(['13.0'], 'Under 20,000')\n",
    "df2['AnnualHouseholdIncome'] = df2['AnnualHouseholdIncome'].replace(['14.0'], '75,000 to 99,999')\n",
    "df2['AnnualHouseholdIncome'] = df2['AnnualHouseholdIncome'].replace(['15.0'], '100,000 and Over')\n",
    "df2['AnnualHouseholdIncome'] = df2['AnnualHouseholdIncome'].replace(['77.0'], 'Unknown')\n",
    "df2['AnnualHouseholdIncome'] = df2['AnnualHouseholdIncome'].replace(['99.0'], 'Unknown')\n",
    "df2['AnnualHouseholdIncome'] = df2['AnnualHouseholdIncome'].replace(['nan'], 'Unknown')\n",
    "df2['AnnualHouseholdIncome'].unique()"
   ]
  },
  {
   "cell_type": "code",
   "execution_count": 228,
   "metadata": {},
   "outputs": [
    {
     "name": "stdout",
     "output_type": "stream",
     "text": [
      "<class 'pandas.core.frame.DataFrame'>\n",
      "Int64Index: 9813 entries, 0 to 9812\n",
      "Data columns (total 22 columns):\n",
      " #   Column                         Non-Null Count  Dtype  \n",
      "---  ------                         --------------  -----  \n",
      " 0   SurveyID                       9813 non-null   int64  \n",
      " 1   SystolicBP                     7172 non-null   float64\n",
      " 2   DiastolicBP                    7172 non-null   float64\n",
      " 3   12drinksInaYear                9813 non-null   object \n",
      " 4   DrinksInLastYear               9813 non-null   object \n",
      " 5   BeenDiagnostedHypertenisve     9813 non-null   object \n",
      " 6   MultipleHypertensionDiagnosis  9813 non-null   object \n",
      " 7   DiagnosedDiabetic              9813 non-null   object \n",
      " 8   DiagnosedPrediabetic           9813 non-null   object \n",
      " 9   DiagnosedAtRiskDiabetes        9813 non-null   object \n",
      " 10  NumMealsNotAtHomePerMonth      9813 non-null   float64\n",
      " 11  FamilyMonthlyPovertLevel       9813 non-null   float64\n",
      " 12  Smoked100cigs                  9813 non-null   object \n",
      " 13  CurrentSmoker                  9813 non-null   object \n",
      " 14  Height                         6243 non-null   float64\n",
      " 15  Weight                         6232 non-null   float64\n",
      " 16  Gender                         9813 non-null   object \n",
      " 17  Age(yrs)                       9813 non-null   int64  \n",
      " 18  Ethnicity                      9813 non-null   object \n",
      " 19  AdultEducationLevel            9813 non-null   object \n",
      " 20  AnnualHouseholdIncome          9813 non-null   object \n",
      " 21  BMI                            6210 non-null   float64\n",
      "dtypes: float64(7), int64(2), object(13)\n",
      "memory usage: 1.7+ MB\n"
     ]
    }
   ],
   "source": [
    "df2.info()"
   ]
  },
  {
   "cell_type": "code",
   "execution_count": 229,
   "metadata": {},
   "outputs": [
    {
     "name": "stdout",
     "output_type": "stream",
     "text": [
      "<class 'pandas.core.frame.DataFrame'>\n",
      "Int64Index: 5684 entries, 0 to 9810\n",
      "Data columns (total 22 columns):\n",
      " #   Column                         Non-Null Count  Dtype  \n",
      "---  ------                         --------------  -----  \n",
      " 0   SurveyID                       5684 non-null   int64  \n",
      " 1   SystolicBP                     5684 non-null   float64\n",
      " 2   DiastolicBP                    5684 non-null   float64\n",
      " 3   12drinksInaYear                5684 non-null   object \n",
      " 4   DrinksInLastYear               5684 non-null   object \n",
      " 5   BeenDiagnostedHypertenisve     5684 non-null   object \n",
      " 6   MultipleHypertensionDiagnosis  5684 non-null   object \n",
      " 7   DiagnosedDiabetic              5684 non-null   object \n",
      " 8   DiagnosedPrediabetic           5684 non-null   object \n",
      " 9   DiagnosedAtRiskDiabetes        5684 non-null   object \n",
      " 10  NumMealsNotAtHomePerMonth      5684 non-null   float64\n",
      " 11  FamilyMonthlyPovertLevel       5684 non-null   float64\n",
      " 12  Smoked100cigs                  5684 non-null   object \n",
      " 13  CurrentSmoker                  5684 non-null   object \n",
      " 14  Height                         5684 non-null   float64\n",
      " 15  Weight                         5684 non-null   float64\n",
      " 16  Gender                         5684 non-null   object \n",
      " 17  Age(yrs)                       5684 non-null   int64  \n",
      " 18  Ethnicity                      5684 non-null   object \n",
      " 19  AdultEducationLevel            5684 non-null   object \n",
      " 20  AnnualHouseholdIncome          5684 non-null   object \n",
      " 21  BMI                            5684 non-null   float64\n",
      "dtypes: float64(7), int64(2), object(13)\n",
      "memory usage: 1021.3+ KB\n"
     ]
    }
   ],
   "source": [
    "df2 = df2.dropna()\n",
    "df2.info()"
   ]
  },
  {
   "cell_type": "code",
   "execution_count": 230,
   "metadata": {},
   "outputs": [],
   "source": [
    "df2.to_csv('U.S. NHANES Survey Data.csv')"
   ]
  }
 ],
 "metadata": {
  "kernelspec": {
   "display_name": "Python 3.9.12",
   "language": "python",
   "name": "python3"
  },
  "language_info": {
   "codemirror_mode": {
    "name": "ipython",
    "version": 3
   },
   "file_extension": ".py",
   "mimetype": "text/x-python",
   "name": "python",
   "nbconvert_exporter": "python",
   "pygments_lexer": "ipython3",
   "version": "3.9.12"
  },
  "orig_nbformat": 4,
  "vscode": {
   "interpreter": {
    "hash": "6f5583cf1d9466b5c27e75c89cc6b383bed5736d6b16c51c8074d8690011a952"
   }
  }
 },
 "nbformat": 4,
 "nbformat_minor": 2
}

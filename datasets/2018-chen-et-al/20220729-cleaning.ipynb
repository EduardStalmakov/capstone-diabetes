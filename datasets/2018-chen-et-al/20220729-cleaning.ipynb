{
 "cells": [
  {
   "cell_type": "code",
   "execution_count": 1,
   "metadata": {},
   "outputs": [
    {
     "name": "stdout",
     "output_type": "stream",
     "text": [
      "<class 'pandas.core.frame.DataFrame'>\n",
      "RangeIndex: 211833 entries, 0 to 211832\n",
      "Data columns (total 25 columns):\n",
      " #   Column                                                              Non-Null Count   Dtype  \n",
      "---  ------                                                              --------------   -----  \n",
      " 0   id                                                                  211833 non-null  int64  \n",
      " 1   Age (y)                                                             211833 non-null  int64  \n",
      " 2   Gender(1, male; 2, female)                                          211833 non-null  int64  \n",
      " 3   site                                                                211833 non-null  int64  \n",
      " 4   height(cm)                                                          211831 non-null  float64\n",
      " 5   weight(kg)                                                          211833 non-null  float64\n",
      " 6   BMI(kg/m2)                                                          211833 non-null  float64\n",
      " 7   SBP(mmHg)                                                           211810 non-null  float64\n",
      " 8   DBP(mmHg)                                                           211809 non-null  float64\n",
      " 9   FPG (mmol/L)                                                        211833 non-null  float64\n",
      " 10  Cholesterol(mmol/L)                                                 206979 non-null  float64\n",
      " 11  Triglyceride(mmol/L)                                                206946 non-null  float64\n",
      " 12  HDL-c(mmol/L)                                                       117271 non-null  float64\n",
      " 13  LDL(mmol/L)                                                         118412 non-null  float64\n",
      " 14  ALT(U/L)                                                            210051 non-null  float64\n",
      " 15  AST(U/L)                                                            88543 non-null   float64\n",
      " 16  BUN(mmol/L)                                                         190282 non-null  float64\n",
      " 17  CCR(umol/L)                                                         200658 non-null  float64\n",
      " 18  FPG of final visit(mmol/L)                                          211814 non-null  float64\n",
      " 19  Diabetes diagnosed during followup（1,Yes）                           1304 non-null    float64\n",
      " 20  censor of diabetes at followup(1, Yes; 0, No)                       211833 non-null  int64  \n",
      " 21  year of followup                                                    211833 non-null  float64\n",
      " 22  smoking status(1,current smoker;2, ever smoker;3,never smoker)      60230 non-null   float64\n",
      " 23  drinking status(1,current drinker;2, ever drinker;3,never drinker)  60230 non-null   float64\n",
      " 24  family histroy of diabetes(1,Yes;0,No)                              211833 non-null  int64  \n",
      "dtypes: float64(19), int64(6)\n",
      "memory usage: 40.4 MB\n"
     ]
    }
   ],
   "source": [
    "# Imports\n",
    "import pandas as pd\n",
    "import matplotlib.pyplot as plt\n",
    "\n",
    "# Load data\n",
    "data = pd.read_csv('data.csv')\n",
    "\n",
    "# Get data info\n",
    "data.info()"
   ]
  },
  {
   "cell_type": "code",
   "execution_count": 2,
   "metadata": {},
   "outputs": [
    {
     "data": {
      "text/plain": [
       "Index(['id', 'Age (y)', 'Gender(1, male; 2, female)', 'site', 'height(cm)',\n",
       "       'weight(kg)', 'BMI(kg/m2)', 'SBP(mmHg)', 'DBP(mmHg)', 'FPG (mmol/L)',\n",
       "       'Cholesterol(mmol/L)', 'Triglyceride(mmol/L)', 'HDL-c(mmol/L)',\n",
       "       'LDL(mmol/L)', 'ALT(U/L)', 'AST(U/L)', 'BUN(mmol/L)', 'CCR(umol/L)',\n",
       "       'FPG of final visit(mmol/L)',\n",
       "       'Diabetes diagnosed during followup（1,Yes）',\n",
       "       'censor of diabetes at followup(1, Yes; 0, No)', 'year of followup',\n",
       "       'smoking status(1,current smoker;2, ever smoker;3,never smoker)',\n",
       "       'drinking status(1,current drinker;2, ever drinker;3,never drinker)',\n",
       "       'family histroy of diabetes(1,Yes;0,No)'],\n",
       "      dtype='object')"
      ]
     },
     "execution_count": 2,
     "metadata": {},
     "output_type": "execute_result"
    }
   ],
   "source": [
    "data.columns"
   ]
  },
  {
   "cell_type": "code",
   "execution_count": 17,
   "metadata": {},
   "outputs": [
    {
     "name": "stdout",
     "output_type": "stream",
     "text": [
      "<class 'pandas.core.frame.DataFrame'>\n",
      "RangeIndex: 211833 entries, 0 to 211832\n",
      "Data columns (total 23 columns):\n",
      " #   Column     Non-Null Count   Dtype  \n",
      "---  ------     --------------   -----  \n",
      " 0   age        211833 non-null  int64  \n",
      " 1   sex        211833 non-null  int64  \n",
      " 2   height     211831 non-null  float64\n",
      " 3   weight     211833 non-null  float64\n",
      " 4   bmi        211833 non-null  float64\n",
      " 5   sbp        211810 non-null  float64\n",
      " 6   dbp        211809 non-null  float64\n",
      " 7   fpg        211833 non-null  float64\n",
      " 8   chol       206979 non-null  float64\n",
      " 9   tg         206946 non-null  float64\n",
      " 10  hdlc       117271 non-null  float64\n",
      " 11  ldl        118412 non-null  float64\n",
      " 12  alt        210051 non-null  float64\n",
      " 13  ast        88543 non-null   float64\n",
      " 14  bun        190282 non-null  float64\n",
      " 15  ccr        200658 non-null  float64\n",
      " 16  fpg_final  211814 non-null  float64\n",
      " 17  diabetes   1304 non-null    float64\n",
      " 18  censor     211833 non-null  int64  \n",
      " 19  followup   211833 non-null  float64\n",
      " 20  smoker     60230 non-null   float64\n",
      " 21  drinker    60230 non-null   float64\n",
      " 22  fam_hist   211833 non-null  int64  \n",
      "dtypes: float64(19), int64(4)\n",
      "memory usage: 37.2 MB\n"
     ]
    }
   ],
   "source": [
    "clean_data = data.copy()\n",
    "\n",
    "# Remove all unnecessary columns\n",
    "clean_data = clean_data.drop(columns=['id', 'site'])\n",
    "\n",
    "# Rename columns to be more accessible\n",
    "rename_dict = {\n",
    "    'Age (y)': 'age',\n",
    "    'Gender(1, male; 2, female)': 'sex',\n",
    "    'height(cm)': 'height',\n",
    "    'weight(kg)': 'weight',\n",
    "    'BMI(kg/m2)': 'bmi',\n",
    "    'SBP(mmHg)': 'sbp',\n",
    "    'DBP(mmHg)': 'dbp',\n",
    "    'FPG (mmol/L)': 'fpg',\n",
    "    'Cholesterol(mmol/L)': 'chol',\n",
    "    'Triglyceride(mmol/L)': 'tg',\n",
    "    'HDL-c(mmol/L)': 'hdlc',\n",
    "    'LDL(mmol/L)': 'ldl',\n",
    "    'ALT(U/L)': 'alt',\n",
    "    'AST(U/L)': 'ast',\n",
    "    'BUN(mmol/L)': 'bun',\n",
    "    'CCR(umol/L)': 'ccr',\n",
    "    'FPG of final visit(mmol/L)': 'fpg_final',\n",
    "    'Diabetes diagnosed during followup（1,Yes）': 'diabetes',\n",
    "    'censor of diabetes at followup(1, Yes; 0, No)': 'censor',\n",
    "    'year of followup': 'followup',\n",
    "    'smoking status(1,current smoker;2, ever smoker;3,never smoker)': 'smoker',\n",
    "    'drinking status(1,current drinker;2, ever drinker;3,never drinker)': 'drinker',\n",
    "    'family histroy of diabetes(1,Yes;0,No)': 'fam_hist'\n",
    "}\n",
    "clean_data = clean_data.rename(columns=rename_dict)\n",
    "clean_data.info()"
   ]
  },
  {
   "cell_type": "code",
   "execution_count": 24,
   "metadata": {},
   "outputs": [
    {
     "name": "stdout",
     "output_type": "stream",
     "text": [
      "Sexes in dataset: ['female' 'male']\n"
     ]
    }
   ],
   "source": [
    "# Clean sex column\n",
    "clean_data['sex'] = clean_data['sex'].replace({1: 'male', 2: 'female'})\n",
    "\n",
    "# Check to see columns are all filled\n",
    "print(f'Sexes in dataset: {clean_data[\"sex\"].unique()}')"
   ]
  },
  {
   "cell_type": "code",
   "execution_count": 49,
   "metadata": {},
   "outputs": [
    {
     "name": "stdout",
     "output_type": "stream",
     "text": [
      "Range of heights: 106.5 - 198.5\n",
      "Number of nulls: 2\n"
     ]
    }
   ],
   "source": [
    "# Clean height column\n",
    "print(f'Range of heights: {clean_data[\"height\"].min()} - {clean_data[\"height\"].max()}')\n",
    "print(f'Number of nulls: {(clean_data.loc[clean_data[\"height\"].isna()]).shape[0]}')"
   ]
  },
  {
   "cell_type": "code",
   "execution_count": null,
   "metadata": {},
   "outputs": [],
   "source": []
  }
 ],
 "metadata": {
  "kernelspec": {
   "display_name": "Python 3.9.7 64-bit",
   "language": "python",
   "name": "python3"
  },
  "language_info": {
   "codemirror_mode": {
    "name": "ipython",
    "version": 3
   },
   "file_extension": ".py",
   "mimetype": "text/x-python",
   "name": "python",
   "nbconvert_exporter": "python",
   "pygments_lexer": "ipython3",
   "version": "3.9.7"
  },
  "orig_nbformat": 4,
  "vscode": {
   "interpreter": {
    "hash": "aee8b7b246df8f9039afb4144a1f6fd8d2ca17a180786b69acc140d282b71a49"
   }
  }
 },
 "nbformat": 4,
 "nbformat_minor": 2
}

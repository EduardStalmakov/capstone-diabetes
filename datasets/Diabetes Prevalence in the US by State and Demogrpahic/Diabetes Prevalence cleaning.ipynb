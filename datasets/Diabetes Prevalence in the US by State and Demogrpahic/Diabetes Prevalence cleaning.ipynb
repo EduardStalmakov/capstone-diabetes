{
 "cells": [
  {
   "cell_type": "code",
   "execution_count": 10,
   "metadata": {},
   "outputs": [
    {
     "name": "stderr",
     "output_type": "stream",
     "text": [
      "C:\\Users\\hayde\\AppData\\Local\\Temp\\ipykernel_19392\\3736040858.py:3: DtypeWarning: Columns (11) have mixed types. Specify dtype option on import or set low_memory=False.\n",
      "  chronic = pd.read_csv(r'U.S._Chronic_Disease_Indicators__Diabetes.csv')\n"
     ]
    }
   ],
   "source": [
    "import pandas as pd\n",
    "\n",
    "chronic = pd.read_csv(r'U.S._Chronic_Disease_Indicators__Diabetes.csv')"
   ]
  },
  {
   "cell_type": "code",
   "execution_count": 11,
   "metadata": {},
   "outputs": [
    {
     "data": {
      "text/plain": [
       "(143589, 33)"
      ]
     },
     "execution_count": 11,
     "metadata": {},
     "output_type": "execute_result"
    }
   ],
   "source": [
    "len(chronic)\n",
    "chronic.shape"
   ]
  },
  {
   "cell_type": "code",
   "execution_count": 12,
   "metadata": {},
   "outputs": [
    {
     "name": "stdout",
     "output_type": "stream",
     "text": [
      "<class 'pandas.core.frame.DataFrame'>\n",
      "Int64Index: 8700 entries, 7 to 143588\n",
      "Data columns (total 33 columns):\n",
      " #   Column                     Non-Null Count  Dtype  \n",
      "---  ------                     --------------  -----  \n",
      " 0   YearStart                  8700 non-null   int64  \n",
      " 1   YearEnd                    8700 non-null   int64  \n",
      " 2   LocationAbbr               8700 non-null   object \n",
      " 3   LocationDesc               8700 non-null   object \n",
      " 4   DataSource                 8700 non-null   object \n",
      " 5   Topic                      8700 non-null   object \n",
      " 6   Question                   8700 non-null   object \n",
      " 7   Response                   0 non-null      float64\n",
      " 8   DataValueUnit              8700 non-null   object \n",
      " 9   DataValueType              8700 non-null   object \n",
      " 10  DataValue                  7119 non-null   float64\n",
      " 11  DataValueAlt               7119 non-null   object \n",
      " 12  DataValueFootnoteSymbol    1641 non-null   object \n",
      " 13  DatavalueFootnote          1641 non-null   object \n",
      " 14  LowConfidenceLimit         7119 non-null   float64\n",
      " 15  HighConfidenceLimit        7119 non-null   float64\n",
      " 16  StratificationCategory1    8700 non-null   object \n",
      " 17  Stratification1            8700 non-null   object \n",
      " 18  StratificationCategory2    0 non-null      float64\n",
      " 19  Stratification2            0 non-null      float64\n",
      " 20  StratificationCategory3    0 non-null      float64\n",
      " 21  Stratification3            0 non-null      float64\n",
      " 22  ResponseID                 0 non-null      float64\n",
      " 23  LocationID                 8700 non-null   int64  \n",
      " 24  TopicID                    8700 non-null   object \n",
      " 25  QuestionID                 8700 non-null   object \n",
      " 26  DataValueTypeID            8700 non-null   object \n",
      " 27  StratificationCategoryID1  8700 non-null   object \n",
      " 28  StratificationID1          8700 non-null   object \n",
      " 29  StratificationCategoryID2  0 non-null      float64\n",
      " 30  StratificationID2          0 non-null      float64\n",
      " 31  StratificationCategoryID3  0 non-null      float64\n",
      " 32  StratificationID3          0 non-null      float64\n",
      "dtypes: float64(13), int64(3), object(17)\n",
      "memory usage: 2.3+ MB\n"
     ]
    }
   ],
   "source": [
    "chronic = chronic.loc[chronic['Question'] == 'Prevalence of diagnosed diabetes among adults aged >= 18 years']\n",
    "chronic.info()"
   ]
  },
  {
   "cell_type": "code",
   "execution_count": 13,
   "metadata": {},
   "outputs": [
    {
     "name": "stdout",
     "output_type": "stream",
     "text": [
      "<class 'pandas.core.frame.DataFrame'>\n",
      "Int64Index: 4350 entries, 7 to 143584\n",
      "Data columns (total 33 columns):\n",
      " #   Column                     Non-Null Count  Dtype  \n",
      "---  ------                     --------------  -----  \n",
      " 0   YearStart                  4350 non-null   int64  \n",
      " 1   YearEnd                    4350 non-null   int64  \n",
      " 2   LocationAbbr               4350 non-null   object \n",
      " 3   LocationDesc               4350 non-null   object \n",
      " 4   DataSource                 4350 non-null   object \n",
      " 5   Topic                      4350 non-null   object \n",
      " 6   Question                   4350 non-null   object \n",
      " 7   Response                   0 non-null      float64\n",
      " 8   DataValueUnit              4350 non-null   object \n",
      " 9   DataValueType              4350 non-null   object \n",
      " 10  DataValue                  3461 non-null   float64\n",
      " 11  DataValueAlt               3461 non-null   object \n",
      " 12  DataValueFootnoteSymbol    919 non-null    object \n",
      " 13  DatavalueFootnote          919 non-null    object \n",
      " 14  LowConfidenceLimit         3461 non-null   float64\n",
      " 15  HighConfidenceLimit        3461 non-null   float64\n",
      " 16  StratificationCategory1    4350 non-null   object \n",
      " 17  Stratification1            4350 non-null   object \n",
      " 18  StratificationCategory2    0 non-null      float64\n",
      " 19  Stratification2            0 non-null      float64\n",
      " 20  StratificationCategory3    0 non-null      float64\n",
      " 21  Stratification3            0 non-null      float64\n",
      " 22  ResponseID                 0 non-null      float64\n",
      " 23  LocationID                 4350 non-null   int64  \n",
      " 24  TopicID                    4350 non-null   object \n",
      " 25  QuestionID                 4350 non-null   object \n",
      " 26  DataValueTypeID            4350 non-null   object \n",
      " 27  StratificationCategoryID1  4350 non-null   object \n",
      " 28  StratificationID1          4350 non-null   object \n",
      " 29  StratificationCategoryID2  0 non-null      float64\n",
      " 30  StratificationID2          0 non-null      float64\n",
      " 31  StratificationCategoryID3  0 non-null      float64\n",
      " 32  StratificationID3          0 non-null      float64\n",
      "dtypes: float64(13), int64(3), object(17)\n",
      "memory usage: 1.1+ MB\n"
     ]
    }
   ],
   "source": [
    "chronic = chronic.loc[chronic['DataValueType'] == 'Crude Prevalence']\n",
    "chronic.info()"
   ]
  },
  {
   "cell_type": "code",
   "execution_count": 14,
   "metadata": {},
   "outputs": [
    {
     "name": "stdout",
     "output_type": "stream",
     "text": [
      "<class 'pandas.core.frame.DataFrame'>\n",
      "Int64Index: 4350 entries, 7 to 143584\n",
      "Data columns (total 5 columns):\n",
      " #   Column           Non-Null Count  Dtype  \n",
      "---  ------           --------------  -----  \n",
      " 0   YearEnd          4350 non-null   int64  \n",
      " 1   LocationAbbr     4350 non-null   object \n",
      " 2   LocationDesc     4350 non-null   object \n",
      " 3   DataValue        3461 non-null   float64\n",
      " 4   Stratification1  4350 non-null   object \n",
      "dtypes: float64(1), int64(1), object(3)\n",
      "memory usage: 203.9+ KB\n"
     ]
    }
   ],
   "source": [
    "chronic = chronic.drop(columns=['YearStart', 'DataSource', 'Topic', 'Question', 'Response', 'DataValueUnit', 'DataValueType', 'DataValueAlt', 'DataValueFootnoteSymbol', 'DatavalueFootnote',\n",
    "                                'LowConfidenceLimit', 'HighConfidenceLimit', 'StratificationCategory1','StratificationCategory2','Stratification2', 'Stratification3', 'ResponseID', \n",
    "                                'LocationID', 'TopicID', 'QuestionID', 'DataValueTypeID','StratificationCategoryID1','StratificationID1', 'StratificationCategoryID2', 'StratificationID2',\n",
    "                                'StratificationCategoryID3', 'StratificationCategory3', 'StratificationID2', 'StratificationID3'])\n",
    "chronic.info()"
   ]
  },
  {
   "cell_type": "code",
   "execution_count": 15,
   "metadata": {},
   "outputs": [
    {
     "name": "stdout",
     "output_type": "stream",
     "text": [
      "<class 'pandas.core.frame.DataFrame'>\n",
      "Int64Index: 4030 entries, 7 to 143584\n",
      "Data columns (total 5 columns):\n",
      " #   Column           Non-Null Count  Dtype  \n",
      "---  ------           --------------  -----  \n",
      " 0   YearEnd          4030 non-null   int64  \n",
      " 1   LocationAbbr     4030 non-null   object \n",
      " 2   LocationDesc     4030 non-null   object \n",
      " 3   DataValue        3306 non-null   float64\n",
      " 4   Stratification1  4030 non-null   object \n",
      "dtypes: float64(1), int64(1), object(3)\n",
      "memory usage: 188.9+ KB\n"
     ]
    },
    {
     "data": {
      "text/plain": [
       "array(['Delaware', 'Alabama', 'Alaska', 'Arkansas', 'California',\n",
       "       'Arizona', 'Colorado', 'Connecticut', 'Florida', 'Georgia',\n",
       "       'Hawaii', 'Iowa', 'Idaho', 'Illinois', 'Indiana', 'Kansas',\n",
       "       'Kentucky', 'Louisiana', 'Massachusetts', 'Maryland', 'Maine',\n",
       "       'Michigan', 'Minnesota', 'Missouri', 'Mississippi', 'Montana',\n",
       "       'North Carolina', 'North Dakota', 'Nebraska', 'New Hampshire',\n",
       "       'New Jersey', 'New Mexico', 'Nevada', 'New York', 'Ohio',\n",
       "       'Oklahoma', 'Oregon', 'Pennsylvania', 'Rhode Island',\n",
       "       'South Carolina', 'South Dakota', 'Tennessee', 'Texas', 'Utah',\n",
       "       'United States', 'Virginia', 'Vermont', 'Washington', 'Wisconsin',\n",
       "       'West Virginia', 'Wyoming'], dtype=object)"
      ]
     },
     "execution_count": 15,
     "metadata": {},
     "output_type": "execute_result"
    }
   ],
   "source": [
    "chronic = chronic[chronic.LocationDesc != 'Guam']\n",
    "chronic = chronic[chronic.LocationDesc != 'Virgin Islands']\n",
    "chronic = chronic[chronic.LocationDesc != 'Puerto Rico']\n",
    "chronic = chronic[chronic.LocationDesc != 'District of Columbia']\n",
    "chronic.info()\n",
    "chronic.LocationDesc.unique()"
   ]
  },
  {
   "cell_type": "code",
   "execution_count": 16,
   "metadata": {},
   "outputs": [
    {
     "name": "stdout",
     "output_type": "stream",
     "text": [
      "<class 'pandas.core.frame.DataFrame'>\n",
      "Int64Index: 4030 entries, 7 to 143584\n",
      "Data columns (total 5 columns):\n",
      " #   Column           Non-Null Count  Dtype  \n",
      "---  ------           --------------  -----  \n",
      " 0   YearEnd          4030 non-null   int64  \n",
      " 1   LocationAbbr     4030 non-null   object \n",
      " 2   LocationDesc     4030 non-null   object \n",
      " 3   DataValue        4030 non-null   float64\n",
      " 4   Stratification1  4030 non-null   object \n",
      "dtypes: float64(1), int64(1), object(3)\n",
      "memory usage: 188.9+ KB\n"
     ]
    }
   ],
   "source": [
    "chronic['DataValue'] = chronic['DataValue'].fillna(0)\n",
    "chronic.info()"
   ]
  },
  {
   "cell_type": "code",
   "execution_count": null,
   "metadata": {},
   "outputs": [],
   "source": [
    "chronic = chroni"
   ]
  },
  {
   "cell_type": "code",
   "execution_count": 17,
   "metadata": {},
   "outputs": [],
   "source": [
    "chronic.to_csv('Diabetes Prevalence in the US by State and Demographic.csv')"
   ]
  },
  {
   "cell_type": "code",
   "execution_count": null,
   "metadata": {},
   "outputs": [],
   "source": []
  }
 ],
 "metadata": {
  "kernelspec": {
   "display_name": "Python 3.9.12",
   "language": "python",
   "name": "python3"
  },
  "language_info": {
   "codemirror_mode": {
    "name": "ipython",
    "version": 3
   },
   "file_extension": ".py",
   "mimetype": "text/x-python",
   "name": "python",
   "nbconvert_exporter": "python",
   "pygments_lexer": "ipython3",
   "version": "3.9.12"
  },
  "orig_nbformat": 4,
  "vscode": {
   "interpreter": {
    "hash": "6f5583cf1d9466b5c27e75c89cc6b383bed5736d6b16c51c8074d8690011a952"
   }
  }
 },
 "nbformat": 4,
 "nbformat_minor": 2
}
